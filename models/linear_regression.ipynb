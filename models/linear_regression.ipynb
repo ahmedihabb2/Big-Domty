{
  "nbformat": 4,
  "nbformat_minor": 0,
  "metadata": {
    "colab": {
      "provenance": []
    },
    "kernelspec": {
      "name": "python3",
      "display_name": "Python 3"
    },
    "language_info": {
      "name": "python"
    }
  },
  "cells": [
    {
      "cell_type": "code",
      "source": [
        "from google.colab import drive\n",
        "drive.mount('/content/drive')"
      ],
      "metadata": {
        "colab": {
          "base_uri": "https://localhost:8080/"
        },
        "id": "UXD31zliwpct",
        "outputId": "aaba7d45-a0f4-42ef-8d9b-9a17cba68b2b"
      },
      "execution_count": 1,
      "outputs": [
        {
          "output_type": "stream",
          "name": "stdout",
          "text": [
            "Mounted at /content/drive\n"
          ]
        }
      ]
    },
    {
      "cell_type": "code",
      "execution_count": 2,
      "metadata": {
        "id": "fVhcMnJ0wSri"
      },
      "outputs": [],
      "source": [
        "import pandas as pd"
      ]
    },
    {
      "cell_type": "code",
      "source": [
        "!pip install pyspark"
      ],
      "metadata": {
        "colab": {
          "base_uri": "https://localhost:8080/"
        },
        "id": "BGQTVy0rwaaa",
        "outputId": "f53d2df7-0946-4e5c-aa6d-a372f9b4dad2"
      },
      "execution_count": 3,
      "outputs": [
        {
          "output_type": "stream",
          "name": "stdout",
          "text": [
            "Looking in indexes: https://pypi.org/simple, https://us-python.pkg.dev/colab-wheels/public/simple/\n",
            "Collecting pyspark\n",
            "  Downloading pyspark-3.4.0.tar.gz (310.8 MB)\n",
            "\u001b[2K     \u001b[90m━━━━━━━━━━━━━━━━━━━━━━━━━━━━━━━━━━━━━━━\u001b[0m \u001b[32m310.8/310.8 MB\u001b[0m \u001b[31m3.8 MB/s\u001b[0m eta \u001b[36m0:00:00\u001b[0m\n",
            "\u001b[?25h  Preparing metadata (setup.py) ... \u001b[?25l\u001b[?25hdone\n",
            "Requirement already satisfied: py4j==0.10.9.7 in /usr/local/lib/python3.10/dist-packages (from pyspark) (0.10.9.7)\n",
            "Building wheels for collected packages: pyspark\n",
            "  Building wheel for pyspark (setup.py) ... \u001b[?25l\u001b[?25hdone\n",
            "  Created wheel for pyspark: filename=pyspark-3.4.0-py2.py3-none-any.whl size=311317145 sha256=0142e95fba4ea04b666d2b1108e6c8d68dedf85523366293c5ff22ebabba16ba\n",
            "  Stored in directory: /root/.cache/pip/wheels/7b/1b/4b/3363a1d04368e7ff0d408e57ff57966fcdf00583774e761327\n",
            "Successfully built pyspark\n",
            "Installing collected packages: pyspark\n",
            "Successfully installed pyspark-3.4.0\n"
          ]
        }
      ]
    },
    {
      "cell_type": "code",
      "source": [
        "from pyspark.sql import SparkSession\n",
        "from pyspark.ml.regression import LinearRegression\n",
        "from pyspark.ml.feature import VectorAssembler\n",
        "from pyspark.ml.evaluation import RegressionEvaluator\n",
        "from pyspark.ml.feature import StandardScaler\n",
        "from pyspark.ml.feature import OneHotEncoder\n",
        "from pyspark.ml.regression import LinearRegression\n",
        "from pyspark.mllib.evaluation import RegressionMetrics"
      ],
      "metadata": {
        "id": "tQEhdaGUweRZ"
      },
      "execution_count": 4,
      "outputs": []
    },
    {
      "cell_type": "code",
      "source": [
        "!mkdir data\n",
        "!cp /content/drive/MyDrive/BigDataProject/players_22_new.csv /content/data\n",
        "!cp /content/drive/MyDrive/BigDataProject/players_22.csv /content/data"
      ],
      "metadata": {
        "id": "zQ_0JS2twvTd"
      },
      "execution_count": 5,
      "outputs": []
    },
    {
      "cell_type": "code",
      "source": [
        "spark = SparkSession.builder\\\n",
        "        .master(\"local\")\\\n",
        "        .appName(\"FIFA22\")\\\n",
        "        .config('spark.ui.port', '4050')\\\n",
        "        .getOrCreate()\n",
        "\n",
        "spark"
      ],
      "metadata": {
        "colab": {
          "base_uri": "https://localhost:8080/",
          "height": 219
        },
        "id": "n6eVg2oI9K5M",
        "outputId": "3641c9c1-9276-4655-e454-b68f35257817"
      },
      "execution_count": 31,
      "outputs": [
        {
          "output_type": "execute_result",
          "data": {
            "text/plain": [
              "<pyspark.sql.session.SparkSession at 0x7f5ff979e500>"
            ],
            "text/html": [
              "\n",
              "            <div>\n",
              "                <p><b>SparkSession - in-memory</b></p>\n",
              "                \n",
              "        <div>\n",
              "            <p><b>SparkContext</b></p>\n",
              "\n",
              "            <p><a href=\"http://6b5e440ac48d:4050\">Spark UI</a></p>\n",
              "\n",
              "            <dl>\n",
              "              <dt>Version</dt>\n",
              "                <dd><code>v3.4.0</code></dd>\n",
              "              <dt>Master</dt>\n",
              "                <dd><code>local</code></dd>\n",
              "              <dt>AppName</dt>\n",
              "                <dd><code>FIFA22</code></dd>\n",
              "            </dl>\n",
              "        </div>\n",
              "        \n",
              "            </div>\n",
              "        "
            ]
          },
          "metadata": {},
          "execution_count": 31
        }
      ]
    },
    {
      "cell_type": "code",
      "source": [
        "df = spark.read.format(\"csv\").load(\"data/players_22_new.csv\", header=True, inferSchema=True)\n",
        "df.printSchema()"
      ],
      "metadata": {
        "colab": {
          "base_uri": "https://localhost:8080/"
        },
        "id": "Wi712DrDxc4s",
        "outputId": "29c9b46d-4035-4086-e3a6-ee48a3e35467"
      },
      "execution_count": 32,
      "outputs": [
        {
          "output_type": "stream",
          "name": "stdout",
          "text": [
            "root\n",
            " |-- wage_eur: double (nullable = true)\n",
            " |-- value_eur: double (nullable = true)\n",
            " |-- international_reputation: integer (nullable = true)\n",
            " |-- overall: integer (nullable = true)\n",
            " |-- movement_reactions: integer (nullable = true)\n",
            " |-- potential: integer (nullable = true)\n",
            " |-- mentality_composure: integer (nullable = true)\n",
            " |-- mentality_vision: integer (nullable = true)\n",
            " |-- power_shot_power: integer (nullable = true)\n",
            " |-- attacking_short_passing: integer (nullable = true)\n",
            " |-- skill_long_passing: integer (nullable = true)\n",
            " |-- skill_ball_control: integer (nullable = true)\n",
            " |-- skill_curve: integer (nullable = true)\n",
            " |-- skill_moves: integer (nullable = true)\n",
            " |-- attacking_volleys: integer (nullable = true)\n",
            " |-- club_name: integer (nullable = true)\n",
            " |-- league_name: integer (nullable = true)\n",
            " |-- league_level: double (nullable = true)\n",
            " |-- club_position: integer (nullable = true)\n",
            " |-- nationality_name: integer (nullable = true)\n",
            " |-- preferred_foot: integer (nullable = true)\n",
            " |-- body_type: integer (nullable = true)\n",
            "\n"
          ]
        }
      ]
    },
    {
      "cell_type": "code",
      "source": [
        "df.show()"
      ],
      "metadata": {
        "colab": {
          "base_uri": "https://localhost:8080/"
        },
        "id": "0Gb_4Uujynru",
        "outputId": "35302d54-0c7d-4f5a-c5a1-2fc0a99bda8c"
      },
      "execution_count": 33,
      "outputs": [
        {
          "output_type": "stream",
          "name": "stdout",
          "text": [
            "+--------+---------+------------------------+-------+------------------+---------+-------------------+----------------+----------------+-----------------------+------------------+------------------+-----------+-----------+-----------------+---------+-----------+------------+-------------+----------------+--------------+---------+\n",
            "|wage_eur|value_eur|international_reputation|overall|movement_reactions|potential|mentality_composure|mentality_vision|power_shot_power|attacking_short_passing|skill_long_passing|skill_ball_control|skill_curve|skill_moves|attacking_volleys|club_name|league_name|league_level|club_position|nationality_name|preferred_foot|body_type|\n",
            "+--------+---------+------------------------+-------+------------------+---------+-------------------+----------------+----------------+-----------------------+------------------+------------------+-----------+-----------+-----------------+---------+-----------+------------+-------------+----------------+--------------+---------+\n",
            "|320000.0|    7.8E7|                       5|     93|                94|       93|                 96|              95|              86|                     91|                91|                96|         93|          4|               88|      470|         19|         1.0|           25|               6|             0|        3|\n",
            "|270000.0|  1.195E8|                       5|     92|                93|       92|                 88|              81|              90|                     85|                70|                88|         79|          4|               89|      241|         21|         1.0|           27|             123|             1|        3|\n",
            "|270000.0|    4.5E7|                       5|     91|                94|       91|                 95|              76|              94|                     80|                77|                88|         81|          5|               86|      412|         17|         1.0|           27|             124|             1|        3|\n",
            "|270000.0|   1.29E8|                       5|     91|                89|       91|                 93|              90|              80|                     86|                81|                95|         88|          5|               86|      470|         19|         1.0|           14|              20|             1|        3|\n",
            "|350000.0|  1.255E8|                       4|     91|                91|       91|                 89|              94|              91|                     94|                93|                91|         85|          4|               82|      411|         17|         1.0|           19|              13|             1|        3|\n",
            "|130000.0|   1.12E8|                       5|     91|                88|       93|                 68|              65|              59|                     43|                40|                30|         13|          1|               13|       69|         45|         1.0|            5|             137|             1|        3|\n",
            "|230000.0|   1.94E8|                       4|     91|                93|       95|                 88|              82|              86|                     85|                71|                91|         80|          5|               83|      470|         19|         1.0|           27|              56|             1|        3|\n",
            "| 86000.0|   1.35E7|                       5|     90|                87|       90|                 70|              70|              68|                     60|                68|                46|         14|          1|               11|      241|         21|         1.0|            5|              60|             1|        3|\n",
            "|250000.0|    9.9E7|                       4|     90|                86|       92|                 70|              70|              66|                     61|                63|                30|         18|          1|               14|      239|         45|         1.0|            5|              60|             1|        3|\n",
            "|240000.0|  1.295E8|                       4|     90|                92|       90|                 91|              87|              91|                     85|                86|                85|         83|          3|               88|      630|         17|         1.0|           27|              48|             1|        3|\n",
            "|230000.0|    1.0E8|                       4|     90|                93|       90|                 84|              78|              71|                     82|                79|                81|         49|          2|               56|      135|         17|         1.0|           19|              56|             1|        3|\n",
            "|350000.0|    6.6E7|                       4|     89|                91|       89|                 90|              87|              85|                     86|                73|                90|         81|          4|               86|      509|         45|         1.0|            3|              56|             1|        1|\n",
            "|250000.0|   8.55E7|                       4|     89|                84|       91|                 66|              44|              56|                     33|                35|                23|         19|          1|               12|      509|         45|         1.0|            5|              13|             0|        3|\n",
            "|220000.0|   1.04E8|                       4|     89|                91|       89|                 89|              83|              88|                     84|                74|                84|         85|          4|               78|      630|         17|         1.0|           14|              87|             1|        3|\n",
            "|310000.0|    8.8E7|                       3|     89|                87|       89|                 84|              80|              88|                     84|                84|                79|         62|          2|               62|      509|         45|         1.0|            2|              20|             1|        3|\n",
            "|230000.0|    8.6E7|                       4|     89|                87|       89|                 90|              65|              81|                     79|                86|                76|         60|          2|               45|      403|         17|         1.0|            8|             110|             1|        3|\n",
            "|270000.0|   1.01E8|                       4|     89|                91|       89|                 84|              84|              83|                     84|                71|                88|         77|          4|               75|      403|         17|         1.0|           14|             133|             1|        3|\n",
            "|270000.0|   1.01E8|                       4|     89|                92|       89|                 90|              83|              82|                     84|                75|                89|         83|          4|               81|      403|         17|         1.0|           25|              46|             0|        3|\n",
            "|200000.0|    9.4E7|                       3|     89|                88|       91|                 70|              70|              70|                     61|                66|                40|         15|          1|               18|      411|         17|         1.0|            5|              20|             0|        3|\n",
            "|160000.0|   1.08E8|                       4|     89|                88|       90|                 85|              85|              78|                     87|                90|                85|         85|          3|               69|      241|         21|         1.0|           20|              60|             1|        0|\n",
            "+--------+---------+------------------------+-------+------------------+---------+-------------------+----------------+----------------+-----------------------+------------------+------------------+-----------+-----------+-----------------+---------+-----------+------------+-------------+----------------+--------------+---------+\n",
            "only showing top 20 rows\n",
            "\n"
          ]
        }
      ]
    },
    {
      "cell_type": "code",
      "source": [
        "df.columns"
      ],
      "metadata": {
        "colab": {
          "base_uri": "https://localhost:8080/"
        },
        "id": "CoYEVruC2bkQ",
        "outputId": "6fcaa43b-b0c3-4f51-bb97-97bd95a81626"
      },
      "execution_count": 34,
      "outputs": [
        {
          "output_type": "execute_result",
          "data": {
            "text/plain": [
              "['wage_eur',\n",
              " 'value_eur',\n",
              " 'international_reputation',\n",
              " 'overall',\n",
              " 'movement_reactions',\n",
              " 'potential',\n",
              " 'mentality_composure',\n",
              " 'mentality_vision',\n",
              " 'power_shot_power',\n",
              " 'attacking_short_passing',\n",
              " 'skill_long_passing',\n",
              " 'skill_ball_control',\n",
              " 'skill_curve',\n",
              " 'skill_moves',\n",
              " 'attacking_volleys',\n",
              " 'club_name',\n",
              " 'league_name',\n",
              " 'league_level',\n",
              " 'club_position',\n",
              " 'nationality_name',\n",
              " 'preferred_foot',\n",
              " 'body_type']"
            ]
          },
          "metadata": {},
          "execution_count": 34
        }
      ]
    },
    {
      "cell_type": "code",
      "source": [
        "train, test = df.randomSplit([0.8, 0.2])\n",
        "train ,test\n"
      ],
      "metadata": {
        "colab": {
          "base_uri": "https://localhost:8080/"
        },
        "id": "PYh9dxB7zCw-",
        "outputId": "048aee9a-1f30-4545-9022-dc49677c9430"
      },
      "execution_count": 35,
      "outputs": [
        {
          "output_type": "execute_result",
          "data": {
            "text/plain": [
              "(DataFrame[wage_eur: double, value_eur: double, international_reputation: int, overall: int, movement_reactions: int, potential: int, mentality_composure: int, mentality_vision: int, power_shot_power: int, attacking_short_passing: int, skill_long_passing: int, skill_ball_control: int, skill_curve: int, skill_moves: int, attacking_volleys: int, club_name: int, league_name: int, league_level: double, club_position: int, nationality_name: int, preferred_foot: int, body_type: int],\n",
              " DataFrame[wage_eur: double, value_eur: double, international_reputation: int, overall: int, movement_reactions: int, potential: int, mentality_composure: int, mentality_vision: int, power_shot_power: int, attacking_short_passing: int, skill_long_passing: int, skill_ball_control: int, skill_curve: int, skill_moves: int, attacking_volleys: int, club_name: int, league_name: int, league_level: double, club_position: int, nationality_name: int, preferred_foot: int, body_type: int])"
            ]
          },
          "metadata": {},
          "execution_count": 35
        }
      ]
    },
    {
      "cell_type": "code",
      "source": [
        "categorical_columns = ['club_name','league_name','club_position','nationality_name','preferred_foot','body_type','league_level']\n",
        "\n",
        "features_list = df.columns[1:]\n",
        "\n",
        "numerical_features_list = [entry for entry in features_list if entry not in categorical_columns]\n",
        "print(f'numerical_features_list: {numerical_features_list}')"
      ],
      "metadata": {
        "colab": {
          "base_uri": "https://localhost:8080/"
        },
        "id": "JG-S8IJnHjD_",
        "outputId": "527696cb-5610-4032-baa7-7da33e1d4694"
      },
      "execution_count": 36,
      "outputs": [
        {
          "output_type": "stream",
          "name": "stdout",
          "text": [
            "numerical_features_list: ['value_eur', 'international_reputation', 'overall', 'movement_reactions', 'potential', 'mentality_composure', 'mentality_vision', 'power_shot_power', 'attacking_short_passing', 'skill_long_passing', 'skill_ball_control', 'skill_curve', 'skill_moves', 'attacking_volleys']\n"
          ]
        }
      ]
    },
    {
      "cell_type": "code",
      "source": [
        "vector_assembler = VectorAssembler(inputCols=numerical_features_list,\n",
        "                                             outputCol='numerical_feature_vector')\n",
        "\n",
        "train = vector_assembler.transform(train)\n",
        "test = vector_assembler.transform(test)"
      ],
      "metadata": {
        "id": "KedP4yrMHkjb"
      },
      "execution_count": 37,
      "outputs": []
    },
    {
      "cell_type": "code",
      "source": [
        "train.show(3)\n",
        "train.select('numerical_feature_vector').take(3)"
      ],
      "metadata": {
        "colab": {
          "base_uri": "https://localhost:8080/"
        },
        "id": "fViOQq73IG9W",
        "outputId": "22abf12d-6341-4e7c-eceb-14af6e39634b"
      },
      "execution_count": 38,
      "outputs": [
        {
          "output_type": "stream",
          "name": "stdout",
          "text": [
            "+--------+---------+------------------------+-------+------------------+---------+-------------------+----------------+----------------+-----------------------+------------------+------------------+-----------+-----------+-----------------+---------+-----------+------------+-------------+----------------+--------------+---------+------------------------+\n",
            "|wage_eur|value_eur|international_reputation|overall|movement_reactions|potential|mentality_composure|mentality_vision|power_shot_power|attacking_short_passing|skill_long_passing|skill_ball_control|skill_curve|skill_moves|attacking_volleys|club_name|league_name|league_level|club_position|nationality_name|preferred_foot|body_type|numerical_feature_vector|\n",
            "+--------+---------+------------------------+-------+------------------+---------+-------------------+----------------+----------------+-----------------------+------------------+------------------+-----------+-----------+-----------------+---------+-----------+------------+-------------+----------------+--------------+---------+------------------------+\n",
            "|   500.0|  15000.0|                       1|     49|                50|       49|                 55|              56|              54|                     52|                50|                50|         58|          3|               40|      587|         39|         1.0|           21|             126|             1|        1|    [15000.0,1.0,49.0...|\n",
            "|   500.0|  15000.0|                       1|     55|                46|       55|                 57|              14|              41|                     23|                31|                17|         10|          1|               17|      587|         39|         1.0|           21|              48|             1|        1|    [15000.0,1.0,55.0...|\n",
            "|   500.0|  20000.0|                       1|     57|                53|       57|                 29|              32|              43|                     40|                45|                19|         12|          1|               11|      291|         39|         1.0|           28|             115|             1|        1|    [20000.0,1.0,57.0...|\n",
            "+--------+---------+------------------------+-------+------------------+---------+-------------------+----------------+----------------+-----------------------+------------------+------------------+-----------+-----------+-----------------+---------+-----------+------------+-------------+----------------+--------------+---------+------------------------+\n",
            "only showing top 3 rows\n",
            "\n"
          ]
        },
        {
          "output_type": "execute_result",
          "data": {
            "text/plain": [
              "[Row(numerical_feature_vector=DenseVector([15000.0, 1.0, 49.0, 50.0, 49.0, 55.0, 56.0, 54.0, 52.0, 50.0, 50.0, 58.0, 3.0, 40.0])),\n",
              " Row(numerical_feature_vector=DenseVector([15000.0, 1.0, 55.0, 46.0, 55.0, 57.0, 14.0, 41.0, 23.0, 31.0, 17.0, 10.0, 1.0, 17.0])),\n",
              " Row(numerical_feature_vector=DenseVector([20000.0, 1.0, 57.0, 53.0, 57.0, 29.0, 32.0, 43.0, 40.0, 45.0, 19.0, 12.0, 1.0, 11.0]))]"
            ]
          },
          "metadata": {},
          "execution_count": 38
        }
      ]
    },
    {
      "cell_type": "code",
      "source": [
        "scaler = StandardScaler(inputCol='numerical_feature_vector',\n",
        "                        outputCol='scaled_feature_vector',\n",
        "                        withStd=True, withMean=True)\n",
        "\n",
        "scaler = scaler.fit(train)\n",
        "\n",
        "train = scaler.transform(train)\n",
        "test = scaler.transform(test)"
      ],
      "metadata": {
        "id": "bOcmXrr_IPZz"
      },
      "execution_count": 40,
      "outputs": []
    },
    {
      "cell_type": "code",
      "source": [
        "train.show(3)\n",
        "train.select('scaled_feature_vector').take(3)"
      ],
      "metadata": {
        "colab": {
          "base_uri": "https://localhost:8080/"
        },
        "id": "H4Uw-QQ8IaU4",
        "outputId": "20548065-f55e-4f64-b0a1-076c59aff2e3"
      },
      "execution_count": 41,
      "outputs": [
        {
          "output_type": "stream",
          "name": "stdout",
          "text": [
            "+--------+---------+------------------------+-------+------------------+---------+-------------------+----------------+----------------+-----------------------+------------------+------------------+-----------+-----------+-----------------+---------+-----------+------------+-------------+----------------+--------------+---------+------------------------+---------------------+\n",
            "|wage_eur|value_eur|international_reputation|overall|movement_reactions|potential|mentality_composure|mentality_vision|power_shot_power|attacking_short_passing|skill_long_passing|skill_ball_control|skill_curve|skill_moves|attacking_volleys|club_name|league_name|league_level|club_position|nationality_name|preferred_foot|body_type|numerical_feature_vector|scaled_feature_vector|\n",
            "+--------+---------+------------------------+-------+------------------+---------+-------------------+----------------+----------------+-----------------------+------------------+------------------+-----------+-----------+-----------------+---------+-----------+------------+-------------+----------------+--------------+---------+------------------------+---------------------+\n",
            "|   500.0|  15000.0|                       1|     49|                50|       49|                 55|              56|              54|                     52|                50|                50|         58|          3|               40|      587|         39|         1.0|           21|             126|             1|        1|    [15000.0,1.0,49.0...| [-0.3709398168957...|\n",
            "|   500.0|  15000.0|                       1|     55|                46|       55|                 57|              14|              41|                     23|                31|                17|         10|          1|               17|      587|         39|         1.0|           21|              48|             1|        1|    [15000.0,1.0,55.0...| [-0.3709398168957...|\n",
            "|   500.0|  20000.0|                       1|     57|                53|       57|                 29|              32|              43|                     40|                45|                19|         12|          1|               11|      291|         39|         1.0|           28|             115|             1|        1|    [20000.0,1.0,57.0...| [-0.3702801490283...|\n",
            "+--------+---------+------------------------+-------+------------------+---------+-------------------+----------------+----------------+-----------------------+------------------+------------------+-----------+-----------+-----------------+---------+-----------+------------+-------------+----------------+--------------+---------+------------------------+---------------------+\n",
            "only showing top 3 rows\n",
            "\n"
          ]
        },
        {
          "output_type": "execute_result",
          "data": {
            "text/plain": [
              "[Row(scaled_feature_vector=DenseVector([-0.3709, -0.2508, -2.4333, -1.2587, -3.6333, -0.2335, 0.1589, -0.2771, -0.4704, -0.1999, -0.5055, 0.5985, 0.8451, -0.134])),\n",
              " Row(scaled_feature_vector=DenseVector([-0.3709, -0.2508, -1.5606, -1.7013, -2.6447, -0.0685, -2.925, -1.2606, -2.4789, -1.4682, -2.4927, -2.0497, -1.7626, -1.4411])),\n",
              " Row(scaled_feature_vector=DenseVector([-0.3703, -0.2508, -1.2697, -0.9267, -2.3152, -2.3785, -1.6033, -1.1093, -1.3015, -0.5336, -2.3723, -1.9393, -1.7626, -1.7821]))]"
            ]
          },
          "metadata": {},
          "execution_count": 41
        }
      ]
    },
    {
      "cell_type": "code",
      "source": [
        "categorical_columns_onehot = [string+'_encoded' for string in categorical_columns]\n",
        "\n",
        "one_hot_encoder = OneHotEncoder(inputCols=categorical_columns,\n",
        "                                outputCols=categorical_columns_onehot)\n",
        "\n",
        "one_hot_encoder = one_hot_encoder.fit(train)\n",
        "\n",
        "train = one_hot_encoder.transform(train)\n",
        "test = one_hot_encoder.transform(test)\n",
        "\n",
        "assembler = VectorAssembler(inputCols = categorical_columns_onehot, outputCol = 'categorical_onehot_feature')\n",
        "train = assembler.transform(train)\n",
        "test = assembler.transform(test)\n",
        "\n",
        "train.show(3)"
      ],
      "metadata": {
        "colab": {
          "base_uri": "https://localhost:8080/"
        },
        "id": "ok-FGBHu5_mb",
        "outputId": "42a0c34a-36e8-4f73-d425-092c69f785e3"
      },
      "execution_count": 42,
      "outputs": [
        {
          "output_type": "stream",
          "name": "stdout",
          "text": [
            "+--------+---------+------------------------+-------+------------------+---------+-------------------+----------------+----------------+-----------------------+------------------+------------------+-----------+-----------+-----------------+---------+-----------+------------+-------------+----------------+--------------+---------+------------------------+---------------------+-----------------+-------------------+---------------------+------------------------+----------------------+-----------------+--------------------+\n",
            "|wage_eur|value_eur|international_reputation|overall|movement_reactions|potential|mentality_composure|mentality_vision|power_shot_power|attacking_short_passing|skill_long_passing|skill_ball_control|skill_curve|skill_moves|attacking_volleys|club_name|league_name|league_level|club_position|nationality_name|preferred_foot|body_type|numerical_feature_vector|scaled_feature_vector|club_name_encoded|league_name_encoded|club_position_encoded|nationality_name_encoded|preferred_foot_encoded|body_type_encoded|league_level_encoded|\n",
            "+--------+---------+------------------------+-------+------------------+---------+-------------------+----------------+----------------+-----------------------+------------------+------------------+-----------+-----------+-----------------+---------+-----------+------------+-------------+----------------+--------------+---------+------------------------+---------------------+-----------------+-------------------+---------------------+------------------------+----------------------+-----------------+--------------------+\n",
            "|   500.0|  15000.0|                       1|     49|                50|       49|                 55|              56|              54|                     52|                50|                50|         58|          3|               40|      587|         39|         1.0|           21|             126|             1|        1|    [15000.0,1.0,49.0...| [-0.3709398168957...|(700,[587],[1.0])|    (54,[39],[1.0])|      (28,[21],[1.0])|       (162,[126],[1.0])|             (1,[],[])|    (3,[1],[1.0])|       (5,[1],[1.0])|\n",
            "|   500.0|  15000.0|                       1|     55|                46|       55|                 57|              14|              41|                     23|                31|                17|         10|          1|               17|      587|         39|         1.0|           21|              48|             1|        1|    [15000.0,1.0,55.0...| [-0.3709398168957...|(700,[587],[1.0])|    (54,[39],[1.0])|      (28,[21],[1.0])|        (162,[48],[1.0])|             (1,[],[])|    (3,[1],[1.0])|       (5,[1],[1.0])|\n",
            "|   500.0|  20000.0|                       1|     57|                53|       57|                 29|              32|              43|                     40|                45|                19|         12|          1|               11|      291|         39|         1.0|           28|             115|             1|        1|    [20000.0,1.0,57.0...| [-0.3702801490283...|(700,[291],[1.0])|    (54,[39],[1.0])|           (28,[],[])|       (162,[115],[1.0])|             (1,[],[])|    (3,[1],[1.0])|       (5,[1],[1.0])|\n",
            "+--------+---------+------------------------+-------+------------------+---------+-------------------+----------------+----------------+-----------------------+------------------+------------------+-----------+-----------+-----------------+---------+-----------+------------+-------------+----------------+--------------+---------+------------------------+---------------------+-----------------+-------------------+---------------------+------------------------+----------------------+-----------------+--------------------+\n",
            "only showing top 3 rows\n",
            "\n"
          ]
        }
      ]
    },
    {
      "cell_type": "code",
      "source": [
        "assembler = VectorAssembler(inputCols=['categorical_onehot_feature', 'scaled_feature_vector'],\n",
        "                            outputCol='final_feature_vector')\n",
        "\n",
        "train = assembler.transform(train)\n",
        "test = assembler.transform(test)"
      ],
      "metadata": {
        "id": "rq5a5cw07Lh5"
      },
      "execution_count": 44,
      "outputs": []
    },
    {
      "cell_type": "code",
      "source": [
        "train.describe().show()\n",
        "test.describe().show()"
      ],
      "metadata": {
        "colab": {
          "base_uri": "https://localhost:8080/"
        },
        "id": "FZ-zzayaM2qZ",
        "outputId": "a3b6ba95-ccef-4001-bfe1-be1f37f10502"
      },
      "execution_count": 45,
      "outputs": [
        {
          "output_type": "stream",
          "name": "stdout",
          "text": [
            "+-------+-----------------+------------------+------------------------+-----------------+------------------+-----------------+-------------------+------------------+------------------+-----------------------+------------------+------------------+------------------+------------------+-----------------+------------------+------------------+------------------+------------------+-----------------+------------------+------------------+\n",
            "|summary|         wage_eur|         value_eur|international_reputation|          overall|movement_reactions|        potential|mentality_composure|  mentality_vision|  power_shot_power|attacking_short_passing|skill_long_passing|skill_ball_control|       skill_curve|       skill_moves|attacking_volleys|         club_name|       league_name|      league_level|     club_position| nationality_name|    preferred_foot|         body_type|\n",
            "+-------+-----------------+------------------+------------------------+-----------------+------------------+-----------------+-------------------+------------------+------------------+-----------------------+------------------+------------------+------------------+------------------+-----------------+------------------+------------------+------------------+------------------+-----------------+------------------+------------------+\n",
            "|  count|            15255|             15255|                   15255|            15255|             15255|            15255|              15255|             15255|             15255|                  15255|             15255|             15255|             15255|             15255|            15255|             15255|             15255|             15255|             15255|            15255|             15255|             15255|\n",
            "|   mean|9031.478203867584|2826564.9950835793|      1.0932153392330384|65.72900688298918| 61.37528679121599|71.05211406096362|  57.83061291379875| 53.83638151425762| 57.66279908226811|      58.79154375614553| 52.99416584726319|58.395083579154374|47.152081284824646| 2.351819075712881|42.35758767617175| 350.2812848246477| 26.55575221238938|1.3558833169452638|21.013962635201572|79.56329072435267|0.7622418879056048|0.7301868239921337|\n",
            "| stddev|19706.70113686089|7579571.8524155915|      0.3716948474635576|6.874951705871271| 9.037451334522004|  6.0694678815029|  12.12119295782979|13.619334528331335|13.218453391436205|     14.438671225901272|14.980491839454423|16.606510132787665| 18.12571220651101|0.7669584005602349|17.59545015661365|202.76093845921815|15.536965426362435|0.7495862007938933| 8.243332987404353|48.49325676225354|0.4257241747809192|0.5878589467810987|\n",
            "|    min|            500.0|            9000.0|                       1|               47|                25|               49|                 12|                10|                20|                      7|                 9|                 8|                 7|                 1|                3|                 0|                 0|               1.0|                 0|                1|                 0|                 0|\n",
            "|    max|         350000.0|            1.94E8|                       5|               93|                94|               95|                 96|                95|                95|                     94|                93|                96|                94|                 5|               90|               700|                54|               5.0|                28|              162|                 1|                 3|\n",
            "+-------+-----------------+------------------+------------------------+-----------------+------------------+-----------------+-------------------+------------------+------------------+-----------------------+------------------+------------------+------------------+------------------+-----------------+------------------+------------------+------------------+------------------+-----------------+------------------+------------------+\n",
            "\n",
            "+-------+-----------------+------------------+------------------------+-----------------+------------------+-----------------+-------------------+-----------------+------------------+-----------------------+------------------+------------------+------------------+------------------+-----------------+------------------+-----------------+------------------+------------------+------------------+------------------+------------------+\n",
            "|summary|         wage_eur|         value_eur|international_reputation|          overall|movement_reactions|        potential|mentality_composure| mentality_vision|  power_shot_power|attacking_short_passing|skill_long_passing|skill_ball_control|       skill_curve|       skill_moves|attacking_volleys|         club_name|      league_name|      league_level|     club_position|  nationality_name|    preferred_foot|         body_type|\n",
            "+-------+-----------------+------------------+------------------------+-----------------+------------------+-----------------+-------------------+-----------------+------------------+-----------------------+------------------+------------------+------------------+------------------+-----------------+------------------+-----------------+------------------+------------------+------------------+------------------+------------------+\n",
            "|  count|             3910|              3910|                    3910|             3910|              3910|             3910|               3910|             3910|              3910|                   3910|              3910|              3910|              3910|              3910|             3910|              3910|             3910|              3910|              3910|              3910|              3910|              3910|\n",
            "|   mean|8983.657289002558|2943647.0588235296|        1.09616368286445|65.88184143222506| 61.67519181585678|71.18874680306905|   58.1693094629156|54.39641943734016| 58.12762148337596|       59.1153452685422| 53.30869565217391|58.731202046035804| 47.64987212276215|2.3524296675191816|42.79437340153453|351.76419437340155|26.60537084398977|1.3478260869565217|20.953452685421993| 79.98184143222507|0.7641943734015345|0.7237851662404092|\n",
            "| stddev|18550.90709175785|  7745691.74424162|     0.36537335175288255|6.912888714313775|  9.04904763706784|6.157992866769341| 12.294833715008142|13.74501514210223|13.091793879910579|     14.692734043987848|15.195379765521688|16.872586897950853|18.360908643512595|0.7697849846074772|17.85579852916284| 203.2790045561182|15.40149204890166|0.7397213323002096| 8.240431684603529|48.497791091846196|0.4245555701559893|0.5876027975772019|\n",
            "|    min|            500.0|           15000.0|                       1|               47|                29|               50|                 13|               10|                20|                     12|                 9|                 9|                 6|                 1|                4|                 0|                0|               1.0|                 0|                 0|                 0|                 0|\n",
            "|    max|         270000.0|            1.29E8|                       5|               91|                93|               92|                 93|               90|                88|                     91|                88|                95|                92|                 5|               88|               700|               54|               5.0|                28|               162|                 1|                 3|\n",
            "+-------+-----------------+------------------+------------------------+-----------------+------------------+-----------------+-------------------+-----------------+------------------+-----------------------+------------------+------------------+------------------+------------------+-----------------+------------------+-----------------+------------------+------------------+------------------+------------------+------------------+\n",
            "\n"
          ]
        }
      ]
    },
    {
      "cell_type": "code",
      "source": [
        "lr = LinearRegression(featuresCol='final_feature_vector',\n",
        "                      labelCol='wage_eur')\n",
        "\n",
        "lr = lr.fit(train)\n",
        "pred_train_df = lr.transform(train).withColumnRenamed('prediction',\n",
        "                                                      'predicted_wage')\n",
        "\n",
        "pred_train_df.show(5)"
      ],
      "metadata": {
        "colab": {
          "base_uri": "https://localhost:8080/"
        },
        "id": "9AIiFBflIWKr",
        "outputId": "a31ce104-eacb-40bd-fd66-1edb03c73947"
      },
      "execution_count": 46,
      "outputs": [
        {
          "output_type": "stream",
          "name": "stdout",
          "text": [
            "+--------+---------+------------------------+-------+------------------+---------+-------------------+----------------+----------------+-----------------------+------------------+------------------+-----------+-----------+-----------------+---------+-----------+------------+-------------+----------------+--------------+---------+------------------------+---------------------+-----------------+-------------------+---------------------+------------------------+----------------------+-----------------+--------------------+--------------------------+--------------------+-------------------+\n",
            "|wage_eur|value_eur|international_reputation|overall|movement_reactions|potential|mentality_composure|mentality_vision|power_shot_power|attacking_short_passing|skill_long_passing|skill_ball_control|skill_curve|skill_moves|attacking_volleys|club_name|league_name|league_level|club_position|nationality_name|preferred_foot|body_type|numerical_feature_vector|scaled_feature_vector|club_name_encoded|league_name_encoded|club_position_encoded|nationality_name_encoded|preferred_foot_encoded|body_type_encoded|league_level_encoded|categorical_onehot_feature|final_feature_vector|     predicted_wage|\n",
            "+--------+---------+------------------------+-------+------------------+---------+-------------------+----------------+----------------+-----------------------+------------------+------------------+-----------+-----------+-----------------+---------+-----------+------------+-------------+----------------+--------------+---------+------------------------+---------------------+-----------------+-------------------+---------------------+------------------------+----------------------+-----------------+--------------------+--------------------------+--------------------+-------------------+\n",
            "|   500.0|  15000.0|                       1|     49|                50|       49|                 55|              56|              54|                     52|                50|                50|         58|          3|               40|      587|         39|         1.0|           21|             126|             1|        1|    [15000.0,1.0,49.0...| [-0.3709398168957...|(700,[587],[1.0])|    (54,[39],[1.0])|      (28,[21],[1.0])|       (162,[126],[1.0])|             (1,[],[])|    (3,[1],[1.0])|       (5,[1],[1.0])|      (953,[587,739,775...|(967,[587,739,775...| -1063.645918484941|\n",
            "|   500.0|  15000.0|                       1|     55|                46|       55|                 57|              14|              41|                     23|                31|                17|         10|          1|               17|      587|         39|         1.0|           21|              48|             1|        1|    [15000.0,1.0,55.0...| [-0.3709398168957...|(700,[587],[1.0])|    (54,[39],[1.0])|      (28,[21],[1.0])|        (162,[48],[1.0])|             (1,[],[])|    (3,[1],[1.0])|       (5,[1],[1.0])|      (953,[587,739,775...|(967,[587,739,775...| -747.4716257129257|\n",
            "|   500.0|  20000.0|                       1|     57|                53|       57|                 29|              32|              43|                     40|                45|                19|         12|          1|               11|      291|         39|         1.0|           28|             115|             1|        1|    [20000.0,1.0,57.0...| [-0.3702801490283...|(700,[291],[1.0])|    (54,[39],[1.0])|           (28,[],[])|       (162,[115],[1.0])|             (1,[],[])|    (3,[1],[1.0])|       (5,[1],[1.0])|      (953,[291,739,897...|(967,[291,739,897...|  2467.566180904174|\n",
            "|   500.0|  25000.0|                       1|     58|                46|       58|                 30|              39|              45|                     16|                24|                13|         14|          1|                8|      624|         23|         3.0|           21|              60|             0|        2|    [25000.0,1.0,58.0...| [-0.3696204811609...|(700,[624],[1.0])|    (54,[23],[1.0])|      (28,[21],[1.0])|        (162,[60],[1.0])|         (1,[0],[1.0])|    (3,[2],[1.0])|       (5,[3],[1.0])|      (953,[624,723,775...|(967,[624,723,775...|-1068.8842658383182|\n",
            "|   500.0|  30000.0|                       1|     57|                60|       57|                 52|              27|              44|                     23|                22|                13|         15|          1|               17|      351|         27|         1.0|           28|              75|             1|        1|    [30000.0,1.0,57.0...| [-0.3689608132934...|(700,[351],[1.0])|    (54,[27],[1.0])|           (28,[],[])|        (162,[75],[1.0])|             (1,[],[])|    (3,[1],[1.0])|       (5,[1],[1.0])|      (953,[351,727,857...|(967,[351,727,857...|  2851.469227544243|\n",
            "+--------+---------+------------------------+-------+------------------+---------+-------------------+----------------+----------------+-----------------------+------------------+------------------+-----------+-----------+-----------------+---------+-----------+------------+-------------+----------------+--------------+---------+------------------------+---------------------+-----------------+-------------------+---------------------+------------------------+----------------------+-----------------+--------------------+--------------------------+--------------------+-------------------+\n",
            "only showing top 5 rows\n",
            "\n"
          ]
        }
      ]
    },
    {
      "cell_type": "code",
      "source": [
        "pred_test_df = lr.transform(train).withColumnRenamed('prediction', 'predicted_wage')\n",
        "pred_test_df.show(5)"
      ],
      "metadata": {
        "colab": {
          "base_uri": "https://localhost:8080/"
        },
        "id": "IjeEuxKaRKMq",
        "outputId": "fac865fa-0aa9-4037-9729-9efad2e99fb3"
      },
      "execution_count": 47,
      "outputs": [
        {
          "output_type": "stream",
          "name": "stdout",
          "text": [
            "+--------+---------+------------------------+-------+------------------+---------+-------------------+----------------+----------------+-----------------------+------------------+------------------+-----------+-----------+-----------------+---------+-----------+------------+-------------+----------------+--------------+---------+------------------------+---------------------+-----------------+-------------------+---------------------+------------------------+----------------------+-----------------+--------------------+--------------------------+--------------------+-------------------+\n",
            "|wage_eur|value_eur|international_reputation|overall|movement_reactions|potential|mentality_composure|mentality_vision|power_shot_power|attacking_short_passing|skill_long_passing|skill_ball_control|skill_curve|skill_moves|attacking_volleys|club_name|league_name|league_level|club_position|nationality_name|preferred_foot|body_type|numerical_feature_vector|scaled_feature_vector|club_name_encoded|league_name_encoded|club_position_encoded|nationality_name_encoded|preferred_foot_encoded|body_type_encoded|league_level_encoded|categorical_onehot_feature|final_feature_vector|     predicted_wage|\n",
            "+--------+---------+------------------------+-------+------------------+---------+-------------------+----------------+----------------+-----------------------+------------------+------------------+-----------+-----------+-----------------+---------+-----------+------------+-------------+----------------+--------------+---------+------------------------+---------------------+-----------------+-------------------+---------------------+------------------------+----------------------+-----------------+--------------------+--------------------------+--------------------+-------------------+\n",
            "|   500.0|  15000.0|                       1|     49|                50|       49|                 55|              56|              54|                     52|                50|                50|         58|          3|               40|      587|         39|         1.0|           21|             126|             1|        1|    [15000.0,1.0,49.0...| [-0.3709398168957...|(700,[587],[1.0])|    (54,[39],[1.0])|      (28,[21],[1.0])|       (162,[126],[1.0])|             (1,[],[])|    (3,[1],[1.0])|       (5,[1],[1.0])|      (953,[587,739,775...|(967,[587,739,775...| -1063.645918484941|\n",
            "|   500.0|  15000.0|                       1|     55|                46|       55|                 57|              14|              41|                     23|                31|                17|         10|          1|               17|      587|         39|         1.0|           21|              48|             1|        1|    [15000.0,1.0,55.0...| [-0.3709398168957...|(700,[587],[1.0])|    (54,[39],[1.0])|      (28,[21],[1.0])|        (162,[48],[1.0])|             (1,[],[])|    (3,[1],[1.0])|       (5,[1],[1.0])|      (953,[587,739,775...|(967,[587,739,775...| -747.4716257129257|\n",
            "|   500.0|  20000.0|                       1|     57|                53|       57|                 29|              32|              43|                     40|                45|                19|         12|          1|               11|      291|         39|         1.0|           28|             115|             1|        1|    [20000.0,1.0,57.0...| [-0.3702801490283...|(700,[291],[1.0])|    (54,[39],[1.0])|           (28,[],[])|       (162,[115],[1.0])|             (1,[],[])|    (3,[1],[1.0])|       (5,[1],[1.0])|      (953,[291,739,897...|(967,[291,739,897...|  2467.566180904174|\n",
            "|   500.0|  25000.0|                       1|     58|                46|       58|                 30|              39|              45|                     16|                24|                13|         14|          1|                8|      624|         23|         3.0|           21|              60|             0|        2|    [25000.0,1.0,58.0...| [-0.3696204811609...|(700,[624],[1.0])|    (54,[23],[1.0])|      (28,[21],[1.0])|        (162,[60],[1.0])|         (1,[0],[1.0])|    (3,[2],[1.0])|       (5,[3],[1.0])|      (953,[624,723,775...|(967,[624,723,775...|-1068.8842658383182|\n",
            "|   500.0|  30000.0|                       1|     57|                60|       57|                 52|              27|              44|                     23|                22|                13|         15|          1|               17|      351|         27|         1.0|           28|              75|             1|        1|    [30000.0,1.0,57.0...| [-0.3689608132934...|(700,[351],[1.0])|    (54,[27],[1.0])|           (28,[],[])|        (162,[75],[1.0])|             (1,[],[])|    (3,[1],[1.0])|       (5,[1],[1.0])|      (953,[351,727,857...|(967,[351,727,857...|  2851.469227544243|\n",
            "+--------+---------+------------------------+-------+------------------+---------+-------------------+----------------+----------------+-----------------------+------------------+------------------+-----------+-----------+-----------------+---------+-----------+------------+-------------+----------------+--------------+---------+------------------------+---------------------+-----------------+-------------------+---------------------+------------------------+----------------------+-----------------+--------------------+--------------------------+--------------------+-------------------+\n",
            "only showing top 5 rows\n",
            "\n"
          ]
        }
      ]
    },
    {
      "cell_type": "code",
      "source": [
        "pred_test_pd_df = pred_test_df.toPandas()\n",
        "\n",
        "pred_test_pd_df.head(2)"
      ],
      "metadata": {
        "colab": {
          "base_uri": "https://localhost:8080/",
          "height": 275
        },
        "id": "oNkkayS5Sgxm",
        "outputId": "b0710249-006c-49b7-9975-0dd785201f5b"
      },
      "execution_count": 48,
      "outputs": [
        {
          "output_type": "execute_result",
          "data": {
            "text/plain": [
              "   wage_eur  value_eur  international_reputation  overall  movement_reactions  \\\n",
              "0     500.0    15000.0                         1       49                  50   \n",
              "1     500.0    15000.0                         1       55                  46   \n",
              "\n",
              "   potential  mentality_composure  mentality_vision  power_shot_power  \\\n",
              "0         49                   55                56                54   \n",
              "1         55                   57                14                41   \n",
              "\n",
              "   attacking_short_passing  ...  \\\n",
              "0                       52  ...   \n",
              "1                       23  ...   \n",
              "\n",
              "                                   club_name_encoded  \\\n",
              "0  (0.0, 0.0, 0.0, 0.0, 0.0, 0.0, 0.0, 0.0, 0.0, ...   \n",
              "1  (0.0, 0.0, 0.0, 0.0, 0.0, 0.0, 0.0, 0.0, 0.0, ...   \n",
              "\n",
              "                                 league_name_encoded  \\\n",
              "0  (0.0, 0.0, 0.0, 0.0, 0.0, 0.0, 0.0, 0.0, 0.0, ...   \n",
              "1  (0.0, 0.0, 0.0, 0.0, 0.0, 0.0, 0.0, 0.0, 0.0, ...   \n",
              "\n",
              "                               club_position_encoded  \\\n",
              "0  (0.0, 0.0, 0.0, 0.0, 0.0, 0.0, 0.0, 0.0, 0.0, ...   \n",
              "1  (0.0, 0.0, 0.0, 0.0, 0.0, 0.0, 0.0, 0.0, 0.0, ...   \n",
              "\n",
              "                            nationality_name_encoded  preferred_foot_encoded  \\\n",
              "0  (0.0, 0.0, 0.0, 0.0, 0.0, 0.0, 0.0, 0.0, 0.0, ...                   (0.0)   \n",
              "1  (0.0, 0.0, 0.0, 0.0, 0.0, 0.0, 0.0, 0.0, 0.0, ...                   (0.0)   \n",
              "\n",
              "   body_type_encoded       league_level_encoded  \\\n",
              "0    (0.0, 1.0, 0.0)  (0.0, 1.0, 0.0, 0.0, 0.0)   \n",
              "1    (0.0, 1.0, 0.0)  (0.0, 1.0, 0.0, 0.0, 0.0)   \n",
              "\n",
              "                          categorical_onehot_feature  \\\n",
              "0  (0.0, 0.0, 0.0, 0.0, 0.0, 0.0, 0.0, 0.0, 0.0, ...   \n",
              "1  (0.0, 0.0, 0.0, 0.0, 0.0, 0.0, 0.0, 0.0, 0.0, ...   \n",
              "\n",
              "                                final_feature_vector  predicted_wage  \n",
              "0  (0.0, 0.0, 0.0, 0.0, 0.0, 0.0, 0.0, 0.0, 0.0, ...    -1063.645918  \n",
              "1  (0.0, 0.0, 0.0, 0.0, 0.0, 0.0, 0.0, 0.0, 0.0, ...     -747.471626  \n",
              "\n",
              "[2 rows x 34 columns]"
            ],
            "text/html": [
              "\n",
              "  <div id=\"df-3f50c496-51f9-4e0e-bfbd-500ebf389f26\">\n",
              "    <div class=\"colab-df-container\">\n",
              "      <div>\n",
              "<style scoped>\n",
              "    .dataframe tbody tr th:only-of-type {\n",
              "        vertical-align: middle;\n",
              "    }\n",
              "\n",
              "    .dataframe tbody tr th {\n",
              "        vertical-align: top;\n",
              "    }\n",
              "\n",
              "    .dataframe thead th {\n",
              "        text-align: right;\n",
              "    }\n",
              "</style>\n",
              "<table border=\"1\" class=\"dataframe\">\n",
              "  <thead>\n",
              "    <tr style=\"text-align: right;\">\n",
              "      <th></th>\n",
              "      <th>wage_eur</th>\n",
              "      <th>value_eur</th>\n",
              "      <th>international_reputation</th>\n",
              "      <th>overall</th>\n",
              "      <th>movement_reactions</th>\n",
              "      <th>potential</th>\n",
              "      <th>mentality_composure</th>\n",
              "      <th>mentality_vision</th>\n",
              "      <th>power_shot_power</th>\n",
              "      <th>attacking_short_passing</th>\n",
              "      <th>...</th>\n",
              "      <th>club_name_encoded</th>\n",
              "      <th>league_name_encoded</th>\n",
              "      <th>club_position_encoded</th>\n",
              "      <th>nationality_name_encoded</th>\n",
              "      <th>preferred_foot_encoded</th>\n",
              "      <th>body_type_encoded</th>\n",
              "      <th>league_level_encoded</th>\n",
              "      <th>categorical_onehot_feature</th>\n",
              "      <th>final_feature_vector</th>\n",
              "      <th>predicted_wage</th>\n",
              "    </tr>\n",
              "  </thead>\n",
              "  <tbody>\n",
              "    <tr>\n",
              "      <th>0</th>\n",
              "      <td>500.0</td>\n",
              "      <td>15000.0</td>\n",
              "      <td>1</td>\n",
              "      <td>49</td>\n",
              "      <td>50</td>\n",
              "      <td>49</td>\n",
              "      <td>55</td>\n",
              "      <td>56</td>\n",
              "      <td>54</td>\n",
              "      <td>52</td>\n",
              "      <td>...</td>\n",
              "      <td>(0.0, 0.0, 0.0, 0.0, 0.0, 0.0, 0.0, 0.0, 0.0, ...</td>\n",
              "      <td>(0.0, 0.0, 0.0, 0.0, 0.0, 0.0, 0.0, 0.0, 0.0, ...</td>\n",
              "      <td>(0.0, 0.0, 0.0, 0.0, 0.0, 0.0, 0.0, 0.0, 0.0, ...</td>\n",
              "      <td>(0.0, 0.0, 0.0, 0.0, 0.0, 0.0, 0.0, 0.0, 0.0, ...</td>\n",
              "      <td>(0.0)</td>\n",
              "      <td>(0.0, 1.0, 0.0)</td>\n",
              "      <td>(0.0, 1.0, 0.0, 0.0, 0.0)</td>\n",
              "      <td>(0.0, 0.0, 0.0, 0.0, 0.0, 0.0, 0.0, 0.0, 0.0, ...</td>\n",
              "      <td>(0.0, 0.0, 0.0, 0.0, 0.0, 0.0, 0.0, 0.0, 0.0, ...</td>\n",
              "      <td>-1063.645918</td>\n",
              "    </tr>\n",
              "    <tr>\n",
              "      <th>1</th>\n",
              "      <td>500.0</td>\n",
              "      <td>15000.0</td>\n",
              "      <td>1</td>\n",
              "      <td>55</td>\n",
              "      <td>46</td>\n",
              "      <td>55</td>\n",
              "      <td>57</td>\n",
              "      <td>14</td>\n",
              "      <td>41</td>\n",
              "      <td>23</td>\n",
              "      <td>...</td>\n",
              "      <td>(0.0, 0.0, 0.0, 0.0, 0.0, 0.0, 0.0, 0.0, 0.0, ...</td>\n",
              "      <td>(0.0, 0.0, 0.0, 0.0, 0.0, 0.0, 0.0, 0.0, 0.0, ...</td>\n",
              "      <td>(0.0, 0.0, 0.0, 0.0, 0.0, 0.0, 0.0, 0.0, 0.0, ...</td>\n",
              "      <td>(0.0, 0.0, 0.0, 0.0, 0.0, 0.0, 0.0, 0.0, 0.0, ...</td>\n",
              "      <td>(0.0)</td>\n",
              "      <td>(0.0, 1.0, 0.0)</td>\n",
              "      <td>(0.0, 1.0, 0.0, 0.0, 0.0)</td>\n",
              "      <td>(0.0, 0.0, 0.0, 0.0, 0.0, 0.0, 0.0, 0.0, 0.0, ...</td>\n",
              "      <td>(0.0, 0.0, 0.0, 0.0, 0.0, 0.0, 0.0, 0.0, 0.0, ...</td>\n",
              "      <td>-747.471626</td>\n",
              "    </tr>\n",
              "  </tbody>\n",
              "</table>\n",
              "<p>2 rows × 34 columns</p>\n",
              "</div>\n",
              "      <button class=\"colab-df-convert\" onclick=\"convertToInteractive('df-3f50c496-51f9-4e0e-bfbd-500ebf389f26')\"\n",
              "              title=\"Convert this dataframe to an interactive table.\"\n",
              "              style=\"display:none;\">\n",
              "        \n",
              "  <svg xmlns=\"http://www.w3.org/2000/svg\" height=\"24px\"viewBox=\"0 0 24 24\"\n",
              "       width=\"24px\">\n",
              "    <path d=\"M0 0h24v24H0V0z\" fill=\"none\"/>\n",
              "    <path d=\"M18.56 5.44l.94 2.06.94-2.06 2.06-.94-2.06-.94-.94-2.06-.94 2.06-2.06.94zm-11 1L8.5 8.5l.94-2.06 2.06-.94-2.06-.94L8.5 2.5l-.94 2.06-2.06.94zm10 10l.94 2.06.94-2.06 2.06-.94-2.06-.94-.94-2.06-.94 2.06-2.06.94z\"/><path d=\"M17.41 7.96l-1.37-1.37c-.4-.4-.92-.59-1.43-.59-.52 0-1.04.2-1.43.59L10.3 9.45l-7.72 7.72c-.78.78-.78 2.05 0 2.83L4 21.41c.39.39.9.59 1.41.59.51 0 1.02-.2 1.41-.59l7.78-7.78 2.81-2.81c.8-.78.8-2.07 0-2.86zM5.41 20L4 18.59l7.72-7.72 1.47 1.35L5.41 20z\"/>\n",
              "  </svg>\n",
              "      </button>\n",
              "      \n",
              "  <style>\n",
              "    .colab-df-container {\n",
              "      display:flex;\n",
              "      flex-wrap:wrap;\n",
              "      gap: 12px;\n",
              "    }\n",
              "\n",
              "    .colab-df-convert {\n",
              "      background-color: #E8F0FE;\n",
              "      border: none;\n",
              "      border-radius: 50%;\n",
              "      cursor: pointer;\n",
              "      display: none;\n",
              "      fill: #1967D2;\n",
              "      height: 32px;\n",
              "      padding: 0 0 0 0;\n",
              "      width: 32px;\n",
              "    }\n",
              "\n",
              "    .colab-df-convert:hover {\n",
              "      background-color: #E2EBFA;\n",
              "      box-shadow: 0px 1px 2px rgba(60, 64, 67, 0.3), 0px 1px 3px 1px rgba(60, 64, 67, 0.15);\n",
              "      fill: #174EA6;\n",
              "    }\n",
              "\n",
              "    [theme=dark] .colab-df-convert {\n",
              "      background-color: #3B4455;\n",
              "      fill: #D2E3FC;\n",
              "    }\n",
              "\n",
              "    [theme=dark] .colab-df-convert:hover {\n",
              "      background-color: #434B5C;\n",
              "      box-shadow: 0px 1px 3px 1px rgba(0, 0, 0, 0.15);\n",
              "      filter: drop-shadow(0px 1px 2px rgba(0, 0, 0, 0.3));\n",
              "      fill: #FFFFFF;\n",
              "    }\n",
              "  </style>\n",
              "\n",
              "      <script>\n",
              "        const buttonEl =\n",
              "          document.querySelector('#df-3f50c496-51f9-4e0e-bfbd-500ebf389f26 button.colab-df-convert');\n",
              "        buttonEl.style.display =\n",
              "          google.colab.kernel.accessAllowed ? 'block' : 'none';\n",
              "\n",
              "        async function convertToInteractive(key) {\n",
              "          const element = document.querySelector('#df-3f50c496-51f9-4e0e-bfbd-500ebf389f26');\n",
              "          const dataTable =\n",
              "            await google.colab.kernel.invokeFunction('convertToInteractive',\n",
              "                                                     [key], {});\n",
              "          if (!dataTable) return;\n",
              "\n",
              "          const docLinkHtml = 'Like what you see? Visit the ' +\n",
              "            '<a target=\"_blank\" href=https://colab.research.google.com/notebooks/data_table.ipynb>data table notebook</a>'\n",
              "            + ' to learn more about interactive tables.';\n",
              "          element.innerHTML = '';\n",
              "          dataTable['output_type'] = 'display_data';\n",
              "          await google.colab.output.renderOutput(dataTable, element);\n",
              "          const docLink = document.createElement('div');\n",
              "          docLink.innerHTML = docLinkHtml;\n",
              "          element.appendChild(docLink);\n",
              "        }\n",
              "      </script>\n",
              "    </div>\n",
              "  </div>\n",
              "  "
            ]
          },
          "metadata": {},
          "execution_count": 48
        }
      ]
    },
    {
      "cell_type": "code",
      "source": [
        "predictions_actuals = pred_test_df[['predicted_wage','wage_eur']]\n",
        "predictions_actuals_rdd = predictions_actuals.rdd\n",
        "predictions_actuals_rdd = predictions_actuals_rdd.map(tuple)\n",
        "predictions_actuals_rdd.take(2)"
      ],
      "metadata": {
        "colab": {
          "base_uri": "https://localhost:8080/"
        },
        "id": "gpmOXlNmSj0H",
        "outputId": "1b12403f-ca91-4e25-f37a-ed63ac5676c1"
      },
      "execution_count": 49,
      "outputs": [
        {
          "output_type": "execute_result",
          "data": {
            "text/plain": [
              "[(-1063.645918484941, 500.0), (-747.4716257129257, 500.0)]"
            ]
          },
          "metadata": {},
          "execution_count": 49
        }
      ]
    },
    {
      "cell_type": "code",
      "source": [
        "metrics = RegressionMetrics(predictions_actuals_rdd)\n",
        "\n",
        "print(f'''Mean Squared Error: {metrics.meanSquaredError}\n",
        "          Root Mean Squared Error: {metrics.rootMeanSquaredError}\n",
        "          Mean Absolute Error:{metrics.meanAbsoluteError}\n",
        "          R**2: {metrics.r2}\n",
        "      ''')"
      ],
      "metadata": {
        "colab": {
          "base_uri": "https://localhost:8080/"
        },
        "id": "gA31EaEfS97Q",
        "outputId": "c2938d5e-61fe-4368-84f0-4c034f8cb924"
      },
      "execution_count": 50,
      "outputs": [
        {
          "output_type": "stream",
          "name": "stderr",
          "text": [
            "/usr/local/lib/python3.10/dist-packages/pyspark/sql/context.py:157: FutureWarning: Deprecated in 3.0.0. Use SparkSession.builder.getOrCreate() instead.\n",
            "  warnings.warn(\n"
          ]
        },
        {
          "output_type": "stream",
          "name": "stdout",
          "text": [
            "Mean Squared Error: 47274300.805687815\n",
            "          Root Mean Squared Error: 6875.630938734846\n",
            "          Mean Absolute Error:3380.6842863376787\n",
            "          R**2: 0.8782621230575269\n",
            "      \n"
          ]
        }
      ]
    },
    {
      "cell_type": "markdown",
      "source": [
        "R-squared values range from 0 to 1. A value of 0 indicates that the response variable cannot be explained by the predictor variable at all, while a value of 1 indicates that the response variable can be perfectly explained without error by the predictor variable"
      ],
      "metadata": {
        "id": "dAqPVe51_MWl"
      }
    }
  ]
}