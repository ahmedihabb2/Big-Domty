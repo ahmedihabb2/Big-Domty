{
 "cells": [
  {
   "cell_type": "code",
   "execution_count": null,
   "metadata": {},
   "outputs": [],
   "source": [
    "from pyspark import SparkContext\n",
    "from pyspark.sql import SQLContext\n",
    "from numpy import array\n",
    "from math import sqrt\n",
    "\n",
    "sc = SparkContext(\"local\", \"KMeans\")\n",
    "sqlContext = SQLContext(sc)\n",
    "\n",
    "# Load the data from the csv file\n",
    "data = sqlContext.read.format('com.databricks.spark.csv').options(header='true', inferschema='true').load('players_22.csv')\n",
    "\n",
    "# Select the columns you want to use for clustering\n",
    "data = data.select('overall', 'potential')\n",
    "\n",
    "# Convert the DataFrame to an RDD of numpy arrays\n",
    "parsedData = data.rdd.map(lambda row: array([row['overall'], row['potential']]))\n",
    "\n",
    "# Initialize two centroids\n",
    "centroids = [array([0.0,0.0]), array([3.0,3.0])]\n",
    "\n",
    "# Function to compute the closest centroid for a data point\n",
    "def closestCentroid(point):\n",
    "    bestIndex = 0\n",
    "    closest = float(\"+inf\")\n",
    "    for i in range(len(centroids)):\n",
    "        tempDist = sqrt(sum([x**2 for x in (point-centroids[i])]))\n",
    "        if tempDist < closest:\n",
    "            closest = tempDist\n",
    "            bestIndex = i\n",
    "    return (bestIndex, (point, 1))\n",
    "\n",
    "# Function to compute the new centroid\n",
    "def computeNewCentroid(data):\n",
    "    newCentroid = data[1][0]/data[1][1]\n",
    "    return (data[0], newCentroid)\n",
    "\n",
    "for i in range(10):\n",
    "    # Assign each data point to the closest centroid\n",
    "    closest = parsedData.map(closestCentroid)\n",
    "    \n",
    "    # Compute the new centroids by averaging the data points assigned to each centroid\n",
    "    newCentroids = closest.reduceByKey(lambda x,y : (x[0]+y[0], x[1]+y[1])).map(computeNewCentroid).collect()\n",
    "    \n",
    "    # Update the centroids\n",
    "    for newCentroid in newCentroids:\n",
    "        centroids[newCentroid[0]] = newCentroid[1]\n",
    "\n",
    "print(\"Final centroids: \" + str(centroids))"
   ]
  }
 ],
 "metadata": {
  "language_info": {
   "name": "python"
  },
  "orig_nbformat": 4
 },
 "nbformat": 4,
 "nbformat_minor": 2
}
