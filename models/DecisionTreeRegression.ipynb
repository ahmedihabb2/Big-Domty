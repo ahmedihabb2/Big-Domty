{
  "nbformat": 4,
  "nbformat_minor": 0,
  "metadata": {
    "colab": {
      "provenance": []
    },
    "kernelspec": {
      "name": "python3",
      "display_name": "Python 3"
    },
    "language_info": {
      "name": "python"
    }
  },
  "cells": [
    {
      "cell_type": "code",
      "source": [
        "from google.colab import drive\n",
        "drive.mount('/content/drive')"
      ],
      "metadata": {
        "colab": {
          "base_uri": "https://localhost:8080/"
        },
        "id": "UXD31zliwpct",
        "outputId": "b13c59a9-74fd-4832-d181-a0ec27578469"
      },
      "execution_count": 1,
      "outputs": [
        {
          "output_type": "stream",
          "name": "stdout",
          "text": [
            "Mounted at /content/drive\n"
          ]
        }
      ]
    },
    {
      "cell_type": "code",
      "execution_count": 2,
      "metadata": {
        "id": "fVhcMnJ0wSri"
      },
      "outputs": [],
      "source": [
        "import pandas as pd"
      ]
    },
    {
      "cell_type": "code",
      "source": [
        "!pip install pyspark"
      ],
      "metadata": {
        "colab": {
          "base_uri": "https://localhost:8080/"
        },
        "id": "BGQTVy0rwaaa",
        "outputId": "9fedff2f-6b39-4b79-ef0d-5bcaadeda3f9"
      },
      "execution_count": 3,
      "outputs": [
        {
          "output_type": "stream",
          "name": "stdout",
          "text": [
            "Looking in indexes: https://pypi.org/simple, https://us-python.pkg.dev/colab-wheels/public/simple/\n",
            "Collecting pyspark\n",
            "  Downloading pyspark-3.4.0.tar.gz (310.8 MB)\n",
            "\u001b[2K     \u001b[90m━━━━━━━━━━━━━━━━━━━━━━━━━━━━━━━━━━━━━━━\u001b[0m \u001b[32m310.8/310.8 MB\u001b[0m \u001b[31m4.0 MB/s\u001b[0m eta \u001b[36m0:00:00\u001b[0m\n",
            "\u001b[?25h  Preparing metadata (setup.py) ... \u001b[?25l\u001b[?25hdone\n",
            "Requirement already satisfied: py4j==0.10.9.7 in /usr/local/lib/python3.10/dist-packages (from pyspark) (0.10.9.7)\n",
            "Building wheels for collected packages: pyspark\n",
            "  Building wheel for pyspark (setup.py) ... \u001b[?25l\u001b[?25hdone\n",
            "  Created wheel for pyspark: filename=pyspark-3.4.0-py2.py3-none-any.whl size=311317145 sha256=c6ecacdfdf4f7e4cbed5b1048d77f6cf55d1d2e2c5f09f9c19c576289b0c41c4\n",
            "  Stored in directory: /root/.cache/pip/wheels/7b/1b/4b/3363a1d04368e7ff0d408e57ff57966fcdf00583774e761327\n",
            "Successfully built pyspark\n",
            "Installing collected packages: pyspark\n",
            "Successfully installed pyspark-3.4.0\n"
          ]
        }
      ]
    },
    {
      "cell_type": "code",
      "source": [
        "from pyspark.sql import SparkSession\n",
        "from pyspark.ml.regression import LinearRegression\n",
        "from pyspark.ml.feature import VectorAssembler\n",
        "from pyspark.ml.evaluation import RegressionEvaluator\n",
        "from pyspark.ml.feature import StandardScaler\n",
        "from pyspark.ml.feature import OneHotEncoder\n",
        "from pyspark.ml.regression import LinearRegression\n",
        "from pyspark.mllib.evaluation import RegressionMetrics"
      ],
      "metadata": {
        "id": "tQEhdaGUweRZ"
      },
      "execution_count": 4,
      "outputs": []
    },
    {
      "cell_type": "code",
      "source": [
        "!mkdir data\n",
        "!cp /content/drive/MyDrive/BigDataProject/players_22_new.csv /content/data\n",
        "!cp /content/drive/MyDrive/BigDataProject/players_22.csv /content/data"
      ],
      "metadata": {
        "id": "zQ_0JS2twvTd"
      },
      "execution_count": 5,
      "outputs": []
    },
    {
      "cell_type": "code",
      "source": [
        "spark = SparkSession.builder\\\n",
        "        .master(\"local\")\\\n",
        "        .appName(\"FIFA22\")\\\n",
        "        .config('spark.ui.port', '4050')\\\n",
        "        .getOrCreate()\n",
        "\n",
        "spark"
      ],
      "metadata": {
        "colab": {
          "base_uri": "https://localhost:8080/",
          "height": 219
        },
        "id": "n6eVg2oI9K5M",
        "outputId": "eefba4aa-9883-48a5-d4b4-7888eedccece"
      },
      "execution_count": 6,
      "outputs": [
        {
          "output_type": "execute_result",
          "data": {
            "text/plain": [
              "<pyspark.sql.session.SparkSession at 0x7fbc451142e0>"
            ],
            "text/html": [
              "\n",
              "            <div>\n",
              "                <p><b>SparkSession - in-memory</b></p>\n",
              "                \n",
              "        <div>\n",
              "            <p><b>SparkContext</b></p>\n",
              "\n",
              "            <p><a href=\"http://4bbc95d742a6:4050\">Spark UI</a></p>\n",
              "\n",
              "            <dl>\n",
              "              <dt>Version</dt>\n",
              "                <dd><code>v3.4.0</code></dd>\n",
              "              <dt>Master</dt>\n",
              "                <dd><code>local</code></dd>\n",
              "              <dt>AppName</dt>\n",
              "                <dd><code>FIFA22</code></dd>\n",
              "            </dl>\n",
              "        </div>\n",
              "        \n",
              "            </div>\n",
              "        "
            ]
          },
          "metadata": {},
          "execution_count": 6
        }
      ]
    },
    {
      "cell_type": "code",
      "source": [
        "df = spark.read.format(\"csv\").load(\"data/players_22_new.csv\", header=True, inferSchema=True)\n",
        "df.printSchema()"
      ],
      "metadata": {
        "colab": {
          "base_uri": "https://localhost:8080/"
        },
        "id": "Wi712DrDxc4s",
        "outputId": "bbaf6173-93e1-4567-eba0-d1a1526a51cb"
      },
      "execution_count": 7,
      "outputs": [
        {
          "output_type": "stream",
          "name": "stdout",
          "text": [
            "root\n",
            " |-- wage_eur: double (nullable = true)\n",
            " |-- value_eur: double (nullable = true)\n",
            " |-- international_reputation: integer (nullable = true)\n",
            " |-- overall: integer (nullable = true)\n",
            " |-- movement_reactions: integer (nullable = true)\n",
            " |-- potential: integer (nullable = true)\n",
            " |-- mentality_composure: integer (nullable = true)\n",
            " |-- mentality_vision: integer (nullable = true)\n",
            " |-- power_shot_power: integer (nullable = true)\n",
            " |-- attacking_short_passing: integer (nullable = true)\n",
            " |-- skill_long_passing: integer (nullable = true)\n",
            " |-- skill_ball_control: integer (nullable = true)\n",
            " |-- skill_curve: integer (nullable = true)\n",
            " |-- skill_moves: integer (nullable = true)\n",
            " |-- attacking_volleys: integer (nullable = true)\n",
            " |-- club_name: integer (nullable = true)\n",
            " |-- league_name: integer (nullable = true)\n",
            " |-- league_level: double (nullable = true)\n",
            " |-- club_position: integer (nullable = true)\n",
            " |-- nationality_name: integer (nullable = true)\n",
            " |-- preferred_foot: integer (nullable = true)\n",
            " |-- body_type: integer (nullable = true)\n",
            "\n"
          ]
        }
      ]
    },
    {
      "cell_type": "code",
      "source": [
        "df.show()"
      ],
      "metadata": {
        "colab": {
          "base_uri": "https://localhost:8080/"
        },
        "id": "0Gb_4Uujynru",
        "outputId": "45468cdc-407e-4f98-890b-2c86dbd3600a"
      },
      "execution_count": 8,
      "outputs": [
        {
          "output_type": "stream",
          "name": "stdout",
          "text": [
            "+--------+---------+------------------------+-------+------------------+---------+-------------------+----------------+----------------+-----------------------+------------------+------------------+-----------+-----------+-----------------+---------+-----------+------------+-------------+----------------+--------------+---------+\n",
            "|wage_eur|value_eur|international_reputation|overall|movement_reactions|potential|mentality_composure|mentality_vision|power_shot_power|attacking_short_passing|skill_long_passing|skill_ball_control|skill_curve|skill_moves|attacking_volleys|club_name|league_name|league_level|club_position|nationality_name|preferred_foot|body_type|\n",
            "+--------+---------+------------------------+-------+------------------+---------+-------------------+----------------+----------------+-----------------------+------------------+------------------+-----------+-----------+-----------------+---------+-----------+------------+-------------+----------------+--------------+---------+\n",
            "|320000.0|    7.8E7|                       5|     93|                94|       93|                 96|              95|              86|                     91|                91|                96|         93|          4|               88|      470|         19|         1.0|           25|               6|             0|        3|\n",
            "|270000.0|  1.195E8|                       5|     92|                93|       92|                 88|              81|              90|                     85|                70|                88|         79|          4|               89|      241|         21|         1.0|           27|             123|             1|        3|\n",
            "|270000.0|    4.5E7|                       5|     91|                94|       91|                 95|              76|              94|                     80|                77|                88|         81|          5|               86|      412|         17|         1.0|           27|             124|             1|        3|\n",
            "|270000.0|   1.29E8|                       5|     91|                89|       91|                 93|              90|              80|                     86|                81|                95|         88|          5|               86|      470|         19|         1.0|           14|              20|             1|        3|\n",
            "|350000.0|  1.255E8|                       4|     91|                91|       91|                 89|              94|              91|                     94|                93|                91|         85|          4|               82|      411|         17|         1.0|           19|              13|             1|        3|\n",
            "|130000.0|   1.12E8|                       5|     91|                88|       93|                 68|              65|              59|                     43|                40|                30|         13|          1|               13|       69|         45|         1.0|            5|             137|             1|        3|\n",
            "|230000.0|   1.94E8|                       4|     91|                93|       95|                 88|              82|              86|                     85|                71|                91|         80|          5|               83|      470|         19|         1.0|           27|              56|             1|        3|\n",
            "| 86000.0|   1.35E7|                       5|     90|                87|       90|                 70|              70|              68|                     60|                68|                46|         14|          1|               11|      241|         21|         1.0|            5|              60|             1|        3|\n",
            "|250000.0|    9.9E7|                       4|     90|                86|       92|                 70|              70|              66|                     61|                63|                30|         18|          1|               14|      239|         45|         1.0|            5|              60|             1|        3|\n",
            "|240000.0|  1.295E8|                       4|     90|                92|       90|                 91|              87|              91|                     85|                86|                85|         83|          3|               88|      630|         17|         1.0|           27|              48|             1|        3|\n",
            "|230000.0|    1.0E8|                       4|     90|                93|       90|                 84|              78|              71|                     82|                79|                81|         49|          2|               56|      135|         17|         1.0|           19|              56|             1|        3|\n",
            "|350000.0|    6.6E7|                       4|     89|                91|       89|                 90|              87|              85|                     86|                73|                90|         81|          4|               86|      509|         45|         1.0|            3|              56|             1|        1|\n",
            "|250000.0|   8.55E7|                       4|     89|                84|       91|                 66|              44|              56|                     33|                35|                23|         19|          1|               12|      509|         45|         1.0|            5|              13|             0|        3|\n",
            "|220000.0|   1.04E8|                       4|     89|                91|       89|                 89|              83|              88|                     84|                74|                84|         85|          4|               78|      630|         17|         1.0|           14|              87|             1|        3|\n",
            "|310000.0|    8.8E7|                       3|     89|                87|       89|                 84|              80|              88|                     84|                84|                79|         62|          2|               62|      509|         45|         1.0|            2|              20|             1|        3|\n",
            "|230000.0|    8.6E7|                       4|     89|                87|       89|                 90|              65|              81|                     79|                86|                76|         60|          2|               45|      403|         17|         1.0|            8|             110|             1|        3|\n",
            "|270000.0|   1.01E8|                       4|     89|                91|       89|                 84|              84|              83|                     84|                71|                88|         77|          4|               75|      403|         17|         1.0|           14|             133|             1|        3|\n",
            "|270000.0|   1.01E8|                       4|     89|                92|       89|                 90|              83|              82|                     84|                75|                89|         83|          4|               81|      403|         17|         1.0|           25|              46|             0|        3|\n",
            "|200000.0|    9.4E7|                       3|     89|                88|       91|                 70|              70|              70|                     61|                66|                40|         15|          1|               18|      411|         17|         1.0|            5|              20|             0|        3|\n",
            "|160000.0|   1.08E8|                       4|     89|                88|       90|                 85|              85|              78|                     87|                90|                85|         85|          3|               69|      241|         21|         1.0|           20|              60|             1|        0|\n",
            "+--------+---------+------------------------+-------+------------------+---------+-------------------+----------------+----------------+-----------------------+------------------+------------------+-----------+-----------+-----------------+---------+-----------+------------+-------------+----------------+--------------+---------+\n",
            "only showing top 20 rows\n",
            "\n"
          ]
        }
      ]
    },
    {
      "cell_type": "code",
      "source": [
        "df.columns"
      ],
      "metadata": {
        "colab": {
          "base_uri": "https://localhost:8080/"
        },
        "id": "CoYEVruC2bkQ",
        "outputId": "81ec9398-81db-4fee-a539-1ef238c73b4d"
      },
      "execution_count": 9,
      "outputs": [
        {
          "output_type": "execute_result",
          "data": {
            "text/plain": [
              "['wage_eur',\n",
              " 'value_eur',\n",
              " 'international_reputation',\n",
              " 'overall',\n",
              " 'movement_reactions',\n",
              " 'potential',\n",
              " 'mentality_composure',\n",
              " 'mentality_vision',\n",
              " 'power_shot_power',\n",
              " 'attacking_short_passing',\n",
              " 'skill_long_passing',\n",
              " 'skill_ball_control',\n",
              " 'skill_curve',\n",
              " 'skill_moves',\n",
              " 'attacking_volleys',\n",
              " 'club_name',\n",
              " 'league_name',\n",
              " 'league_level',\n",
              " 'club_position',\n",
              " 'nationality_name',\n",
              " 'preferred_foot',\n",
              " 'body_type']"
            ]
          },
          "metadata": {},
          "execution_count": 9
        }
      ]
    },
    {
      "cell_type": "code",
      "source": [
        "train, test = df.randomSplit([0.8, 0.2])\n",
        "train ,test\n"
      ],
      "metadata": {
        "colab": {
          "base_uri": "https://localhost:8080/"
        },
        "id": "PYh9dxB7zCw-",
        "outputId": "483dd315-9bc2-47c7-dfde-48aa0312a18a"
      },
      "execution_count": 10,
      "outputs": [
        {
          "output_type": "execute_result",
          "data": {
            "text/plain": [
              "(DataFrame[wage_eur: double, value_eur: double, international_reputation: int, overall: int, movement_reactions: int, potential: int, mentality_composure: int, mentality_vision: int, power_shot_power: int, attacking_short_passing: int, skill_long_passing: int, skill_ball_control: int, skill_curve: int, skill_moves: int, attacking_volleys: int, club_name: int, league_name: int, league_level: double, club_position: int, nationality_name: int, preferred_foot: int, body_type: int],\n",
              " DataFrame[wage_eur: double, value_eur: double, international_reputation: int, overall: int, movement_reactions: int, potential: int, mentality_composure: int, mentality_vision: int, power_shot_power: int, attacking_short_passing: int, skill_long_passing: int, skill_ball_control: int, skill_curve: int, skill_moves: int, attacking_volleys: int, club_name: int, league_name: int, league_level: double, club_position: int, nationality_name: int, preferred_foot: int, body_type: int])"
            ]
          },
          "metadata": {},
          "execution_count": 10
        }
      ]
    },
    {
      "cell_type": "code",
      "source": [
        "categorical_columns = ['club_name','league_name','club_position','nationality_name','preferred_foot','body_type','league_level']\n",
        "\n",
        "features_list = df.columns[1:]\n",
        "\n",
        "numerical_features_list = [entry for entry in features_list if entry not in categorical_columns]\n",
        "print(f'numerical_features_list: {numerical_features_list}')"
      ],
      "metadata": {
        "colab": {
          "base_uri": "https://localhost:8080/"
        },
        "id": "JG-S8IJnHjD_",
        "outputId": "6add77cc-aa4c-432f-ca7b-7edcbb8919fe"
      },
      "execution_count": 11,
      "outputs": [
        {
          "output_type": "stream",
          "name": "stdout",
          "text": [
            "numerical_features_list: ['value_eur', 'international_reputation', 'overall', 'movement_reactions', 'potential', 'mentality_composure', 'mentality_vision', 'power_shot_power', 'attacking_short_passing', 'skill_long_passing', 'skill_ball_control', 'skill_curve', 'skill_moves', 'attacking_volleys']\n"
          ]
        }
      ]
    },
    {
      "cell_type": "code",
      "source": [
        "vector_assembler = VectorAssembler(inputCols=numerical_features_list,\n",
        "                                             outputCol='numerical_feature_vector')\n",
        "\n",
        "train = vector_assembler.transform(train)\n",
        "test = vector_assembler.transform(test)"
      ],
      "metadata": {
        "id": "KedP4yrMHkjb"
      },
      "execution_count": 12,
      "outputs": []
    },
    {
      "cell_type": "code",
      "source": [
        "train.show(3)\n",
        "train.select('numerical_feature_vector').take(3)"
      ],
      "metadata": {
        "colab": {
          "base_uri": "https://localhost:8080/"
        },
        "id": "fViOQq73IG9W",
        "outputId": "9463cc5d-9cf0-443b-9216-3687a8f01fe3"
      },
      "execution_count": 13,
      "outputs": [
        {
          "output_type": "stream",
          "name": "stdout",
          "text": [
            "+--------+---------+------------------------+-------+------------------+---------+-------------------+----------------+----------------+-----------------------+------------------+------------------+-----------+-----------+-----------------+---------+-----------+------------+-------------+----------------+--------------+---------+------------------------+\n",
            "|wage_eur|value_eur|international_reputation|overall|movement_reactions|potential|mentality_composure|mentality_vision|power_shot_power|attacking_short_passing|skill_long_passing|skill_ball_control|skill_curve|skill_moves|attacking_volleys|club_name|league_name|league_level|club_position|nationality_name|preferred_foot|body_type|numerical_feature_vector|\n",
            "+--------+---------+------------------------+-------+------------------+---------+-------------------+----------------+----------------+-----------------------+------------------+------------------+-----------+-----------+-----------------+---------+-----------+------------+-------------+----------------+--------------+---------+------------------------+\n",
            "|   500.0|  15000.0|                       1|     49|                50|       49|                 55|              56|              54|                     52|                50|                50|         58|          3|               40|      587|         39|         1.0|           21|             126|             1|        1|    [15000.0,1.0,49.0...|\n",
            "|   500.0|  15000.0|                       1|     55|                46|       55|                 57|              14|              41|                     23|                31|                17|         10|          1|               17|      587|         39|         1.0|           21|              48|             1|        1|    [15000.0,1.0,55.0...|\n",
            "|   500.0|  20000.0|                       1|     57|                53|       57|                 29|              32|              43|                     40|                45|                19|         12|          1|               11|      291|         39|         1.0|           28|             115|             1|        1|    [20000.0,1.0,57.0...|\n",
            "+--------+---------+------------------------+-------+------------------+---------+-------------------+----------------+----------------+-----------------------+------------------+------------------+-----------+-----------+-----------------+---------+-----------+------------+-------------+----------------+--------------+---------+------------------------+\n",
            "only showing top 3 rows\n",
            "\n"
          ]
        },
        {
          "output_type": "execute_result",
          "data": {
            "text/plain": [
              "[Row(numerical_feature_vector=DenseVector([15000.0, 1.0, 49.0, 50.0, 49.0, 55.0, 56.0, 54.0, 52.0, 50.0, 50.0, 58.0, 3.0, 40.0])),\n",
              " Row(numerical_feature_vector=DenseVector([15000.0, 1.0, 55.0, 46.0, 55.0, 57.0, 14.0, 41.0, 23.0, 31.0, 17.0, 10.0, 1.0, 17.0])),\n",
              " Row(numerical_feature_vector=DenseVector([20000.0, 1.0, 57.0, 53.0, 57.0, 29.0, 32.0, 43.0, 40.0, 45.0, 19.0, 12.0, 1.0, 11.0]))]"
            ]
          },
          "metadata": {},
          "execution_count": 13
        }
      ]
    },
    {
      "cell_type": "code",
      "source": [
        "scaler = StandardScaler(inputCol='numerical_feature_vector',\n",
        "                        outputCol='scaled_feature_vector',\n",
        "                        withStd=True, withMean=True)\n",
        "\n",
        "scaler = scaler.fit(train)\n",
        "\n",
        "train = scaler.transform(train)\n",
        "test = scaler.transform(test)"
      ],
      "metadata": {
        "id": "bOcmXrr_IPZz"
      },
      "execution_count": 14,
      "outputs": []
    },
    {
      "cell_type": "code",
      "source": [
        "train.show(3)\n",
        "train.select('scaled_feature_vector').take(3)"
      ],
      "metadata": {
        "colab": {
          "base_uri": "https://localhost:8080/"
        },
        "id": "H4Uw-QQ8IaU4",
        "outputId": "f756c95d-faf7-4643-a31a-49cd1f07df7d"
      },
      "execution_count": 15,
      "outputs": [
        {
          "output_type": "stream",
          "name": "stdout",
          "text": [
            "+--------+---------+------------------------+-------+------------------+---------+-------------------+----------------+----------------+-----------------------+------------------+------------------+-----------+-----------+-----------------+---------+-----------+------------+-------------+----------------+--------------+---------+------------------------+---------------------+\n",
            "|wage_eur|value_eur|international_reputation|overall|movement_reactions|potential|mentality_composure|mentality_vision|power_shot_power|attacking_short_passing|skill_long_passing|skill_ball_control|skill_curve|skill_moves|attacking_volleys|club_name|league_name|league_level|club_position|nationality_name|preferred_foot|body_type|numerical_feature_vector|scaled_feature_vector|\n",
            "+--------+---------+------------------------+-------+------------------+---------+-------------------+----------------+----------------+-----------------------+------------------+------------------+-----------+-----------+-----------------+---------+-----------+------------+-------------+----------------+--------------+---------+------------------------+---------------------+\n",
            "|   500.0|  15000.0|                       1|     49|                50|       49|                 55|              56|              54|                     52|                50|                50|         58|          3|               40|      587|         39|         1.0|           21|             126|             1|        1|    [15000.0,1.0,49.0...| [-0.3855358976930...|\n",
            "|   500.0|  15000.0|                       1|     55|                46|       55|                 57|              14|              41|                     23|                31|                17|         10|          1|               17|      587|         39|         1.0|           21|              48|             1|        1|    [15000.0,1.0,55.0...| [-0.3855358976930...|\n",
            "|   500.0|  20000.0|                       1|     57|                53|       57|                 29|              32|              43|                     40|                45|                19|         12|          1|               11|      291|         39|         1.0|           28|             115|             1|        1|    [20000.0,1.0,57.0...| [-0.3848550619045...|\n",
            "+--------+---------+------------------------+-------+------------------+---------+-------------------+----------------+----------------+-----------------------+------------------+------------------+-----------+-----------+-----------------+---------+-----------+------------+-------------+----------------+--------------+---------+------------------------+---------------------+\n",
            "only showing top 3 rows\n",
            "\n"
          ]
        },
        {
          "output_type": "execute_result",
          "data": {
            "text/plain": [
              "[Row(scaled_feature_vector=DenseVector([-0.3855, -0.2553, -2.4323, -1.2658, -3.635, -0.2389, 0.1483, -0.2901, -0.4752, -0.2028, -0.5093, 0.5874, 0.8405, -0.1384])),\n",
              " Row(scaled_feature_vector=DenseVector([-0.3855, -0.2553, -1.5619, -1.7077, -2.6496, -0.0743, -2.9296, -1.2767, -2.4763, -1.466, -2.487, -2.0465, -1.7579, -1.4417])),\n",
              " Row(scaled_feature_vector=DenseVector([-0.3849, -0.2553, -1.2718, -0.9343, -2.3212, -2.3784, -1.6105, -1.125, -1.3032, -0.5352, -2.3672, -1.9367, -1.7579, -1.7817]))]"
            ]
          },
          "metadata": {},
          "execution_count": 15
        }
      ]
    },
    {
      "cell_type": "code",
      "source": [
        "categorical_columns_onehot = [string+'_encoded' for string in categorical_columns]\n",
        "\n",
        "one_hot_encoder = OneHotEncoder(inputCols=categorical_columns,\n",
        "                                outputCols=categorical_columns_onehot)\n",
        "\n",
        "one_hot_encoder = one_hot_encoder.fit(train)\n",
        "\n",
        "train = one_hot_encoder.transform(train)\n",
        "test = one_hot_encoder.transform(test)\n",
        "\n",
        "assembler = VectorAssembler(inputCols = categorical_columns_onehot, outputCol = 'categorical_onehot_feature')\n",
        "train = assembler.transform(train)\n",
        "test = assembler.transform(test)\n",
        "\n",
        "train.show(3)"
      ],
      "metadata": {
        "colab": {
          "base_uri": "https://localhost:8080/"
        },
        "id": "ok-FGBHu5_mb",
        "outputId": "3f5d632a-c7f3-4555-e3a4-8b0edead8087"
      },
      "execution_count": 16,
      "outputs": [
        {
          "output_type": "stream",
          "name": "stdout",
          "text": [
            "+--------+---------+------------------------+-------+------------------+---------+-------------------+----------------+----------------+-----------------------+------------------+------------------+-----------+-----------+-----------------+---------+-----------+------------+-------------+----------------+--------------+---------+------------------------+---------------------+-----------------+-------------------+---------------------+------------------------+----------------------+-----------------+--------------------+--------------------------+\n",
            "|wage_eur|value_eur|international_reputation|overall|movement_reactions|potential|mentality_composure|mentality_vision|power_shot_power|attacking_short_passing|skill_long_passing|skill_ball_control|skill_curve|skill_moves|attacking_volleys|club_name|league_name|league_level|club_position|nationality_name|preferred_foot|body_type|numerical_feature_vector|scaled_feature_vector|club_name_encoded|league_name_encoded|club_position_encoded|nationality_name_encoded|preferred_foot_encoded|body_type_encoded|league_level_encoded|categorical_onehot_feature|\n",
            "+--------+---------+------------------------+-------+------------------+---------+-------------------+----------------+----------------+-----------------------+------------------+------------------+-----------+-----------+-----------------+---------+-----------+------------+-------------+----------------+--------------+---------+------------------------+---------------------+-----------------+-------------------+---------------------+------------------------+----------------------+-----------------+--------------------+--------------------------+\n",
            "|   500.0|  15000.0|                       1|     49|                50|       49|                 55|              56|              54|                     52|                50|                50|         58|          3|               40|      587|         39|         1.0|           21|             126|             1|        1|    [15000.0,1.0,49.0...| [-0.3855358976930...|(700,[587],[1.0])|    (54,[39],[1.0])|      (28,[21],[1.0])|       (162,[126],[1.0])|             (1,[],[])|    (3,[1],[1.0])|       (5,[1],[1.0])|      (953,[587,739,775...|\n",
            "|   500.0|  15000.0|                       1|     55|                46|       55|                 57|              14|              41|                     23|                31|                17|         10|          1|               17|      587|         39|         1.0|           21|              48|             1|        1|    [15000.0,1.0,55.0...| [-0.3855358976930...|(700,[587],[1.0])|    (54,[39],[1.0])|      (28,[21],[1.0])|        (162,[48],[1.0])|             (1,[],[])|    (3,[1],[1.0])|       (5,[1],[1.0])|      (953,[587,739,775...|\n",
            "|   500.0|  20000.0|                       1|     57|                53|       57|                 29|              32|              43|                     40|                45|                19|         12|          1|               11|      291|         39|         1.0|           28|             115|             1|        1|    [20000.0,1.0,57.0...| [-0.3848550619045...|(700,[291],[1.0])|    (54,[39],[1.0])|           (28,[],[])|       (162,[115],[1.0])|             (1,[],[])|    (3,[1],[1.0])|       (5,[1],[1.0])|      (953,[291,739,897...|\n",
            "+--------+---------+------------------------+-------+------------------+---------+-------------------+----------------+----------------+-----------------------+------------------+------------------+-----------+-----------+-----------------+---------+-----------+------------+-------------+----------------+--------------+---------+------------------------+---------------------+-----------------+-------------------+---------------------+------------------------+----------------------+-----------------+--------------------+--------------------------+\n",
            "only showing top 3 rows\n",
            "\n"
          ]
        }
      ]
    },
    {
      "cell_type": "code",
      "source": [
        "assembler = VectorAssembler(inputCols=['categorical_onehot_feature', 'scaled_feature_vector'],\n",
        "                            outputCol='final_feature_vector')\n",
        "\n",
        "train = assembler.transform(train)\n",
        "test = assembler.transform(test)"
      ],
      "metadata": {
        "id": "rq5a5cw07Lh5"
      },
      "execution_count": 17,
      "outputs": []
    },
    {
      "cell_type": "code",
      "source": [
        "train.describe().show()\n",
        "test.describe().show()"
      ],
      "metadata": {
        "colab": {
          "base_uri": "https://localhost:8080/"
        },
        "id": "FZ-zzayaM2qZ",
        "outputId": "22952ff0-8dda-41e7-d642-2c9af9d4dbf7"
      },
      "execution_count": 18,
      "outputs": [
        {
          "output_type": "stream",
          "name": "stdout",
          "text": [
            "+-------+------------------+-----------------+------------------------+-----------------+------------------+-----------------+-------------------+------------------+------------------+-----------------------+------------------+------------------+------------------+------------------+------------------+------------------+------------------+------------------+------------------+------------------+------------------+------------------+\n",
            "|summary|          wage_eur|        value_eur|international_reputation|          overall|movement_reactions|        potential|mentality_composure|  mentality_vision|  power_shot_power|attacking_short_passing|skill_long_passing|skill_ball_control|       skill_curve|       skill_moves| attacking_volleys|         club_name|       league_name|      league_level|     club_position|  nationality_name|    preferred_foot|         body_type|\n",
            "+-------+------------------+-----------------+------------------------+-----------------+------------------+-----------------+-------------------+------------------+------------------+-----------------------+------------------+------------------+------------------+------------------+------------------+------------------+------------------+------------------+------------------+------------------+------------------+------------------+\n",
            "|  count|             15363|            15363|                   15363|            15363|             15363|            15363|              15363|             15363|             15363|                  15363|             15363|             15363|             15363|             15363|             15363|             15363|             15363|             15363|             15363|             15363|             15363|             15363|\n",
            "|   mean| 9003.863177764759| 2846342.77159409|      1.0938618759356897|65.76710277940506|61.455314717177636| 71.1336978454729|  57.90307882575018|53.976371802382346| 57.82314652086181|      58.88569940766777| 53.05116188244484| 58.49886089956389| 47.29499446722645|2.3530560437414567| 42.44190587775825|350.00188765215125|  26.6323634706763|1.3509080257762156|21.030983531862265| 79.98795808110395|0.7639783896374406|0.7288940962051682|\n",
            "| stddev|19187.622791551345|7343914.765229699|     0.36766974651312206|6.893618963037165| 9.050157769551737|6.089027187591351| 12.152533483481912|13.645831756159948|13.176543746742867|     14.491541351539643|15.041970936257222| 16.68614592495946|18.223923404818997| 0.769699580525793|17.646935360745893| 203.6201171914633|15.503731190528695|0.7427668321357679| 8.216378119801515|48.516551796467375|0.4246494407868243| 0.588692870995388|\n",
            "|    min|             500.0|           9000.0|                       1|               47|                29|               49|                 12|                10|                20|                      7|                 9|                 8|                 6|                 1|                 3|                 0|                 0|               1.0|                 0|                 0|                 0|                 0|\n",
            "|    max|          350000.0|          1.295E8|                       5|               91|                94|               93|                 95|                94|                94|                     94|                93|                95|                94|                 5|                90|               700|                54|               5.0|                28|               162|                 1|                 3|\n",
            "+-------+------------------+-----------------+------------------------+-----------------+------------------+-----------------+-------------------+------------------+------------------+-----------------------+------------------+------------------+------------------+------------------+------------------+------------------+------------------+------------------+------------------+------------------+------------------+------------------+\n",
            "\n",
            "+-------+-----------------+-----------------+------------------------+-----------------+------------------+-----------------+-------------------+-----------------+------------------+-----------------------+------------------+------------------+------------------+------------------+------------------+------------------+------------------+------------------+-----------------+------------------+------------------+------------------+\n",
            "|summary|         wage_eur|        value_eur|international_reputation|          overall|movement_reactions|        potential|mentality_composure| mentality_vision|  power_shot_power|attacking_short_passing|skill_long_passing|skill_ball_control|       skill_curve|       skill_moves| attacking_volleys|         club_name|       league_name|      league_level|    club_position|  nationality_name|    preferred_foot|         body_type|\n",
            "+-------+-----------------+-----------------+------------------------+-----------------+------------------+-----------------+-------------------+-----------------+------------------+-----------------------+------------------+------------------+------------------+------------------+------------------+------------------+------------------+------------------+-----------------+------------------+------------------+------------------+\n",
            "|  count|             3802|             3802|                    3802|             3802|              3802|             3802|               3802|             3802|              3802|                   3802|              3802|              3802|              3802|              3802|              3802|              3802|              3802|              3802|             3802|              3802|              3802|              3802|\n",
            "|   mean|9093.884797475013|2867055.497106786|       1.093634928984745|65.73224618621778|61.360336664913206|70.86296685954761| 57.886112572330354|53.84665965281431| 57.49289847448711|      58.74408206207259| 53.08732246186218| 58.32140978432404|47.086533403471854| 2.347448711204629|  42.4660704892162| 352.9352972119937|26.297211993687533|1.3677012098895318|20.88295633876907| 78.27774855339295| 0.757233035244608|0.7288269331930562|\n",
            "| stddev|20602.69811247283|8619306.592503076|      0.3813137143076996|6.839756927482028| 9.001597957603742|6.078405666965984| 12.177950137271129|13.65088445111558|13.261245948595162|     14.490505213533252|14.956738535162806|16.561678563913574|17.975168719066012|0.7587116172864273|17.661094685238353|199.78013439846032|15.529589602923698|0.7666341302432929|8.347568723683553|48.380917248255976|0.4288117646170939|0.5842402244485828|\n",
            "|    min|            500.0|          15000.0|                       1|               47|                25|               49|                 15|               10|                20|                      7|                 9|                 8|                 6|                 1|                 3|                 0|                 0|               1.0|                0|                 1|                 0|                 0|\n",
            "|    max|         350000.0|           1.94E8|                       5|               93|                94|               95|                 96|               95|                95|                     91|                92|                96|                93|                 5|                89|               700|                54|               5.0|               28|               162|                 1|                 3|\n",
            "+-------+-----------------+-----------------+------------------------+-----------------+------------------+-----------------+-------------------+-----------------+------------------+-----------------------+------------------+------------------+------------------+------------------+------------------+------------------+------------------+------------------+-----------------+------------------+------------------+------------------+\n",
            "\n"
          ]
        }
      ]
    },
    {
      "cell_type": "markdown",
      "source": [
        "R-squared values range from 0 to 1. A value of 0 indicates that the response variable cannot be explained by the predictor variable at all, while a value of 1 indicates that the response variable can be perfectly explained without error by the predictor variable"
      ],
      "metadata": {
        "id": "dAqPVe51_MWl"
      }
    },
    {
      "cell_type": "code",
      "source": [
        "from pyspark.ml.regression import DecisionTreeRegressor\n",
        "dt = DecisionTreeRegressor(featuresCol='final_feature_vector',\n",
        "                      labelCol='wage_eur')\n",
        "model = dt.fit(train)\n"
      ],
      "metadata": {
        "id": "Yw6DBuN2QRY0"
      },
      "execution_count": 25,
      "outputs": []
    },
    {
      "cell_type": "code",
      "source": [
        "test_dt = model.transform(test)\n",
        "test_dt.show(truncate=False)\n"
      ],
      "metadata": {
        "colab": {
          "base_uri": "https://localhost:8080/"
        },
        "id": "piz43OykQdNM",
        "outputId": "7000a4b3-49fb-4b72-db61-2a42d59c96bb"
      },
      "execution_count": 27,
      "outputs": [
        {
          "output_type": "stream",
          "name": "stdout",
          "text": [
            "+--------+---------+------------------------+-------+------------------+---------+-------------------+----------------+----------------+-----------------------+------------------+------------------+-----------+-----------+-----------------+---------+-----------+------------+-------------+----------------+--------------+---------+-------------------------------------------------------------------------+------------------------------------------------------------------------------------------------------------------------------------------------------------------------------------------------------------------------------------------------------------------------------------------+-----------------+-------------------+---------------------+------------------------+----------------------+-----------------+--------------------+-----------------------------------------------------------------+---------------------------------------------------------------------------------------------------------------------------------------------------------------------------------------------------------------------------------------------------------------------------------------------------------------------------------------------------------------------------------------------------------------+------------------+\n",
            "|wage_eur|value_eur|international_reputation|overall|movement_reactions|potential|mentality_composure|mentality_vision|power_shot_power|attacking_short_passing|skill_long_passing|skill_ball_control|skill_curve|skill_moves|attacking_volleys|club_name|league_name|league_level|club_position|nationality_name|preferred_foot|body_type|numerical_feature_vector                                                 |scaled_feature_vector                                                                                                                                                                                                                                                                     |club_name_encoded|league_name_encoded|club_position_encoded|nationality_name_encoded|preferred_foot_encoded|body_type_encoded|league_level_encoded|categorical_onehot_feature                                       |final_feature_vector                                                                                                                                                                                                                                                                                                                                                                                           |prediction        |\n",
            "+--------+---------+------------------------+-------+------------------+---------+-------------------+----------------+----------------+-----------------------+------------------+------------------+-----------+-----------+-----------------+---------+-----------+------------+-------------+----------------+--------------+---------+-------------------------------------------------------------------------+------------------------------------------------------------------------------------------------------------------------------------------------------------------------------------------------------------------------------------------------------------------------------------------+-----------------+-------------------+---------------------+------------------------+----------------------+-----------------+--------------------+-----------------------------------------------------------------+---------------------------------------------------------------------------------------------------------------------------------------------------------------------------------------------------------------------------------------------------------------------------------------------------------------------------------------------------------------------------------------------------------------+------------------+\n",
            "|500.0   |15000.0  |1                       |52     |49                |52       |54                 |45              |30              |45                     |41                |44                |32         |2          |26               |212      |39         |1.0         |28           |115             |0             |2        |[15000.0,1.0,52.0,49.0,52.0,54.0,45.0,30.0,45.0,41.0,44.0,32.0,2.0,26.0] |[-0.38553589769305135,-0.2552885485571143,-1.9970791616453833,-1.3762538769304313,-3.1423242590317826,-0.3211740853094885,-0.6578105287228306,-2.111566360316558,-0.9581934088876152,-0.8011690710953795,-0.8689161035009467,-0.8392810992161149,-0.4586933040814003,-0.9317145182234797] |(700,[212],[1.0])|(54,[39],[1.0])    |(28,[],[])           |(162,[115],[1.0])       |(1,[0],[1.0])         |(3,[2],[1.0])    |(5,[1],[1.0])       |(953,[212,739,897,944,947,949],[1.0,1.0,1.0,1.0,1.0,1.0])        |(967,[212,739,897,944,947,949,953,954,955,956,957,958,959,960,961,962,963,964,965,966],[1.0,1.0,1.0,1.0,1.0,1.0,-0.38553589769305135,-0.2552885485571143,-1.9970791616453833,-1.3762538769304313,-3.1423242590317826,-0.3211740853094885,-0.6578105287228306,-2.111566360316558,-0.9581934088876152,-0.8011690710953795,-0.8689161035009467,-0.8392810992161149,-0.4586933040814003,-0.9317145182234797])      |1426.6808964781217|\n",
            "|500.0   |15000.0  |1                       |56     |52                |56       |49                 |45              |42              |36                     |37                |36                |14         |1          |11               |602      |39         |1.0         |28           |126             |1             |1        |[15000.0,1.0,56.0,52.0,56.0,49.0,45.0,42.0,36.0,37.0,36.0,14.0,1.0,11.0] |[-0.38553589769305135,-0.2552885485571143,-1.4168324115062236,-1.0447679430505634,-2.4854048732633163,-0.732610927412919,-0.6578105287228306,-1.2008571310494902,-1.5792453578608554,-1.067091669732928,-1.3483557557716033,-1.826993766799003,-1.7579014955642194,-1.781720465055825]    |(700,[602],[1.0])|(54,[39],[1.0])    |(28,[],[])           |(162,[126],[1.0])       |(1,[],[])             |(3,[1],[1.0])    |(5,[1],[1.0])       |(953,[602,739,908,946,949],[1.0,1.0,1.0,1.0,1.0])                |(967,[602,739,908,946,949,953,954,955,956,957,958,959,960,961,962,963,964,965,966],[1.0,1.0,1.0,1.0,1.0,-0.38553589769305135,-0.2552885485571143,-1.4168324115062236,-1.0447679430505634,-2.4854048732633163,-0.732610927412919,-0.6578105287228306,-1.2008571310494902,-1.5792453578608554,-1.067091669732928,-1.3483557557716033,-1.826993766799003,-1.7579014955642194,-1.781720465055825])                 |1426.6808964781217|\n",
            "|500.0   |20000.0  |1                       |57     |55                |57       |46                 |49              |43              |15                     |16                |15                |18         |1          |14               |218      |39         |1.0         |21           |132             |0             |1        |[20000.0,1.0,57.0,55.0,57.0,46.0,49.0,43.0,15.0,16.0,15.0,18.0,1.0,14.0] |[-0.38485506190453256,-0.2552885485571143,-1.2717707239714338,-0.7132820091706955,-2.3211750268212,-0.9794730326749772,-0.36468072385077976,-1.1249646952772345,-3.0283665721317496,-2.463185312580058,-2.606884842982077,-1.6075020628916945,-1.7579014955642194,-1.611719275689356]     |(700,[218],[1.0])|(54,[39],[1.0])    |(28,[21],[1.0])      |(162,[132],[1.0])       |(1,[0],[1.0])         |(3,[1],[1.0])    |(5,[1],[1.0])       |(953,[218,739,775,914,944,946,949],[1.0,1.0,1.0,1.0,1.0,1.0,1.0])|(967,[218,739,775,914,944,946,949,953,954,955,956,957,958,959,960,961,962,963,964,965,966],[1.0,1.0,1.0,1.0,1.0,1.0,1.0,-0.38485506190453256,-0.2552885485571143,-1.2717707239714338,-0.7132820091706955,-2.3211750268212,-0.9794730326749772,-0.36468072385077976,-1.1249646952772345,-3.0283665721317496,-2.463185312580058,-2.606884842982077,-1.6075020628916945,-1.7579014955642194,-1.611719275689356])  |1426.6808964781217|\n",
            "|500.0   |25000.0  |1                       |58     |46                |58       |30                 |39              |45              |16                     |24                |13                |14         |1          |8                |624      |23         |3.0         |21           |60              |0             |2        |[25000.0,1.0,58.0,46.0,58.0,30.0,39.0,45.0,16.0,24.0,13.0,14.0,1.0,8.0]  |[-0.38417422611601376,-0.2552885485571143,-1.1267090364366437,-1.7077398108102992,-2.1569451803790836,-2.296070927405955,-1.0975052360309068,-0.9731798237327233,-2.9593608000236116,-1.931340115304961,-2.726744756049741,-1.826993766799003,-1.7579014955642194,-1.9517216544222937]    |(700,[624],[1.0])|(54,[23],[1.0])    |(28,[21],[1.0])      |(162,[60],[1.0])        |(1,[0],[1.0])         |(3,[2],[1.0])    |(5,[3],[1.0])       |(953,[624,723,775,842,944,947,951],[1.0,1.0,1.0,1.0,1.0,1.0,1.0])|(967,[624,723,775,842,944,947,951,953,954,955,956,957,958,959,960,961,962,963,964,965,966],[1.0,1.0,1.0,1.0,1.0,1.0,1.0,-0.38417422611601376,-0.2552885485571143,-1.1267090364366437,-1.7077398108102992,-2.1569451803790836,-2.296070927405955,-1.0975052360309068,-0.9731798237327233,-2.9593608000236116,-1.931340115304961,-2.726744756049741,-1.826993766799003,-1.7579014955642194,-1.9517216544222937]) |1426.6808964781217|\n",
            "|500.0   |45000.0  |1                       |49     |41                |52       |25                 |37              |39              |28                     |22                |14                |11         |1          |5                |430      |27         |1.0         |28           |75              |1             |1        |[45000.0,1.0,49.0,41.0,52.0,25.0,37.0,39.0,28.0,22.0,14.0,11.0,1.0,5.0]  |[-0.3814508829619386,-0.2552885485571143,-2.4322642242497534,-2.2602163672767457,-3.1423242590317826,-2.707507769509385,-1.2440701384669322,-1.4285344383662573,-2.131291534725958,-2.0643014146237353,-2.666814799515909,-1.9916125447294843,-1.7579014955642194,-2.121722843788763]     |(700,[430],[1.0])|(54,[27],[1.0])    |(28,[],[])           |(162,[75],[1.0])        |(1,[],[])             |(3,[1],[1.0])    |(5,[1],[1.0])       |(953,[430,727,857,946,949],[1.0,1.0,1.0,1.0,1.0])                |(967,[430,727,857,946,949,953,954,955,956,957,958,959,960,961,962,963,964,965,966],[1.0,1.0,1.0,1.0,1.0,-0.3814508829619386,-0.2552885485571143,-2.4322642242497534,-2.2602163672767457,-3.1423242590317826,-2.707507769509385,-1.2440701384669322,-1.4285344383662573,-2.131291534725958,-2.0643014146237353,-2.666814799515909,-1.9916125447294843,-1.7579014955642194,-2.121722843788763])                  |1426.6808964781217|\n",
            "|500.0   |60000.0  |1                       |48     |45                |52       |32                 |39              |29              |35                     |29                |38                |33         |2          |29               |443      |27         |1.0         |28           |75              |0             |0        |[60000.0,1.0,48.0,45.0,52.0,32.0,39.0,29.0,35.0,29.0,38.0,33.0,2.0,29.0] |[-0.3794083755963822,-0.2552885485571143,-2.577325911784543,-1.8182351221035886,-3.1423242590317826,-2.1314961905645826,-1.0975052360309068,-2.187458796088814,-1.6482511299689933,-1.5989368670080253,-1.2284958427039392,-0.7844081732392878,-0.4586933040814003,-0.7617133288570107]   |(700,[443],[1.0])|(54,[27],[1.0])    |(28,[],[])           |(162,[75],[1.0])        |(1,[0],[1.0])         |(3,[0],[1.0])    |(5,[1],[1.0])       |(953,[443,727,857,944,945,949],[1.0,1.0,1.0,1.0,1.0,1.0])        |(967,[443,727,857,944,945,949,953,954,955,956,957,958,959,960,961,962,963,964,965,966],[1.0,1.0,1.0,1.0,1.0,1.0,-0.3794083755963822,-0.2552885485571143,-2.577325911784543,-1.8182351221035886,-3.1423242590317826,-2.1314961905645826,-1.0975052360309068,-2.187458796088814,-1.6482511299689933,-1.5989368670080253,-1.2284958427039392,-0.7844081732392878,-0.4586933040814003,-0.7617133288570107])        |1426.6808964781217|\n",
            "|500.0   |60000.0  |1                       |50     |51                |53       |45                 |46              |44              |50                     |46                |53                |31         |2          |32               |405      |39         |1.0         |17           |126             |1             |1        |[60000.0,1.0,50.0,51.0,53.0,45.0,46.0,44.0,50.0,46.0,53.0,31.0,2.0,32.0] |[-0.3794083755963822,-0.2552885485571143,-2.2872025367149633,-1.1552632543438528,-2.978094412589666,-1.0617604010956634,-0.5845280775048178,-1.0490722595049788,-0.6131645483469261,-0.4687658227984438,-0.329546494696458,-0.8941540251929421,-0.4586933040814003,-0.5917121394905417]   |(700,[405],[1.0])|(54,[39],[1.0])    |(28,[17],[1.0])      |(162,[126],[1.0])       |(1,[],[])             |(3,[1],[1.0])    |(5,[1],[1.0])       |(953,[405,739,771,908,946,949],[1.0,1.0,1.0,1.0,1.0,1.0])        |(967,[405,739,771,908,946,949,953,954,955,956,957,958,959,960,961,962,963,964,965,966],[1.0,1.0,1.0,1.0,1.0,1.0,-0.3794083755963822,-0.2552885485571143,-2.2872025367149633,-1.1552632543438528,-2.978094412589666,-1.0617604010956634,-0.5845280775048178,-1.0490722595049788,-0.6131645483469261,-0.4687658227984438,-0.329546494696458,-0.8941540251929421,-0.4586933040814003,-0.5917121394905417])        |1426.6808964781217|\n",
            "|500.0   |60000.0  |1                       |51     |49                |51       |43                 |41              |51              |38                     |29                |46                |38         |2          |56               |531      |27         |1.0         |28           |75              |1             |1        |[60000.0,1.0,51.0,49.0,51.0,43.0,41.0,51.0,38.0,29.0,46.0,38.0,2.0,56.0] |[-0.3794083755963822,-0.2552885485571143,-2.1421408491801732,-1.3762538769304313,-3.3065541054738987,-1.2263351379370355,-0.9509403335948814,-0.5178252090991893,-1.44123381364458,-1.5989368670080253,-0.7490561904332825,-0.5100435433551522,-0.4586933040814003,0.7682973754412104]    |(700,[531],[1.0])|(54,[27],[1.0])    |(28,[],[])           |(162,[75],[1.0])        |(1,[],[])             |(3,[1],[1.0])    |(5,[1],[1.0])       |(953,[531,727,857,946,949],[1.0,1.0,1.0,1.0,1.0])                |(967,[531,727,857,946,949,953,954,955,956,957,958,959,960,961,962,963,964,965,966],[1.0,1.0,1.0,1.0,1.0,-0.3794083755963822,-0.2552885485571143,-2.1421408491801732,-1.3762538769304313,-3.3065541054738987,-1.2263351379370355,-0.9509403335948814,-0.5178252090991893,-1.44123381364458,-1.5989368670080253,-0.7490561904332825,-0.5100435433551522,-0.4586933040814003,0.7682973754412104])                 |1426.6808964781217|\n",
            "|500.0   |60000.0  |1                       |51     |50                |51       |42                 |45              |48              |36                     |35                |48                |39         |2          |42               |443      |27         |1.0         |28           |75              |1             |0        |[60000.0,1.0,51.0,50.0,51.0,42.0,45.0,48.0,36.0,35.0,48.0,39.0,2.0,42.0] |[-0.3794083755963822,-0.2552885485571143,-2.1421408491801732,-1.265758565637142,-3.3065541054738987,-1.3086225063577217,-0.6578105287228306,-0.7455025164159562,-1.5792453578608554,-1.2000529690517023,-0.6291962773656185,-0.45517061737832515,-0.4586933040814003,-0.02504150826897837]|(700,[443],[1.0])|(54,[27],[1.0])    |(28,[],[])           |(162,[75],[1.0])        |(1,[],[])             |(3,[0],[1.0])    |(5,[1],[1.0])       |(953,[443,727,857,945,949],[1.0,1.0,1.0,1.0,1.0])                |(967,[443,727,857,945,949,953,954,955,956,957,958,959,960,961,962,963,964,965,966],[1.0,1.0,1.0,1.0,1.0,-0.3794083755963822,-0.2552885485571143,-2.1421408491801732,-1.265758565637142,-3.3065541054738987,-1.3086225063577217,-0.6578105287228306,-0.7455025164159562,-1.5792453578608554,-1.2000529690517023,-0.6291962773656185,-0.45517061737832515,-0.4586933040814003,-0.02504150826897837])             |1426.6808964781217|\n",
            "|500.0   |70000.0  |1                       |62     |45                |62       |43                 |29              |31              |55                     |24                |46                |39         |2          |22               |11       |54         |1.0         |17           |158             |1             |1        |[70000.0,1.0,62.0,45.0,62.0,43.0,29.0,31.0,55.0,24.0,46.0,39.0,2.0,22.0] |[-0.37804670401934454,-0.2552885485571143,-0.5464622862974838,-1.8182351221035886,-1.5000257946106175,-1.2263351379370355,-1.830329748211034,-2.0356739245443025,-0.2681356878062371,-1.931340115304961,-0.7490561904332825,-0.45517061737832515,-0.4586933040814003,-1.158382770712105]  |(700,[11],[1.0]) |(54,[],[])         |(28,[17],[1.0])      |(162,[158],[1.0])       |(1,[],[])             |(3,[1],[1.0])    |(5,[1],[1.0])       |(953,[11,771,940,946,949],[1.0,1.0,1.0,1.0,1.0])                 |(967,[11,771,940,946,949,953,954,955,956,957,958,959,960,961,962,963,964,965,966],[1.0,1.0,1.0,1.0,1.0,-0.37804670401934454,-0.2552885485571143,-0.5464622862974838,-1.8182351221035886,-1.5000257946106175,-1.2263351379370355,-1.830329748211034,-2.0356739245443025,-0.2681356878062371,-1.931340115304961,-0.7490561904332825,-0.45517061737832515,-0.4586933040814003,-1.158382770712105])                |1426.6808964781217|\n",
            "|500.0   |80000.0  |1                       |60     |59                |60       |63                 |58              |65              |55                     |50                |62                |63         |2          |60               |675      |39         |1.0         |28           |126             |0             |1        |[80000.0,1.0,60.0,59.0,60.0,63.0,58.0,65.0,55.0,50.0,62.0,63.0,2.0,60.0] |[-0.37668503244230694,-0.2552885485571143,-0.8365856613670638,-0.2713007639975383,-1.8284854874948504,0.4194122304766864,0.29486133711133455,0.5446688917123899,-0.2681356878062371,-0.2028432241608952,0.20982311410803064,0.8617796060655256,-0.4586933040814003,0.9949656279298357]    |(700,[675],[1.0])|(54,[39],[1.0])    |(28,[],[])           |(162,[126],[1.0])       |(1,[0],[1.0])         |(3,[1],[1.0])    |(5,[1],[1.0])       |(953,[675,739,908,944,946,949],[1.0,1.0,1.0,1.0,1.0,1.0])        |(967,[675,739,908,944,946,949,953,954,955,956,957,958,959,960,961,962,963,964,965,966],[1.0,1.0,1.0,1.0,1.0,1.0,-0.37668503244230694,-0.2552885485571143,-0.8365856613670638,-0.2713007639975383,-1.8284854874948504,0.4194122304766864,0.29486133711133455,0.5446688917123899,-0.2681356878062371,-0.2028432241608952,0.20982311410803064,0.8617796060655256,-0.4586933040814003,0.9949656279298357])         |1426.6808964781217|\n",
            "|500.0   |80000.0  |1                       |65     |65                |65       |34                 |18              |47              |27                     |20                |19                |15         |1          |16               |177      |32         |1.0         |5            |18              |1             |1        |[80000.0,1.0,65.0,65.0,65.0,34.0,18.0,47.0,27.0,20.0,19.0,15.0,1.0,16.0] |[-0.37668503244230694,-0.2552885485571143,-0.11127722369311399,0.3916711037621976,-1.007336255284268,-1.9669214537232105,-2.6364367116091736,-0.8213949521882119,-2.200297306834096,-2.1972627139425094,-2.3671650168467484,-1.7721208408221758,-1.7579014955642194,-1.498385149445043]   |(700,[177],[1.0])|(54,[32],[1.0])    |(28,[5],[1.0])       |(162,[18],[1.0])        |(1,[],[])             |(3,[1],[1.0])    |(5,[1],[1.0])       |(953,[177,732,759,800,946,949],[1.0,1.0,1.0,1.0,1.0,1.0])        |(967,[177,732,759,800,946,949,953,954,955,956,957,958,959,960,961,962,963,964,965,966],[1.0,1.0,1.0,1.0,1.0,1.0,-0.37668503244230694,-0.2552885485571143,-0.11127722369311399,0.3916711037621976,-1.007336255284268,-1.9669214537232105,-2.6364367116091736,-0.8213949521882119,-2.200297306834096,-2.1972627139425094,-2.3671650168467484,-1.7721208408221758,-1.7579014955642194,-1.498385149445043])        |2471.308312872676 |\n",
            "|500.0   |90000.0  |1                       |51     |41                |57       |48                 |44              |47              |49                     |52                |51                |44         |4          |38               |675      |39         |1.0         |28           |126             |1             |1        |[90000.0,1.0,51.0,41.0,57.0,48.0,44.0,47.0,49.0,52.0,51.0,44.0,4.0,38.0] |[-0.37532336086526935,-0.2552885485571143,-2.1421408491801732,-2.2602163672767457,-2.3211750268212,-0.8148982958336051,-0.7310929799408433,-0.8213949521882119,-0.682170320455064,-0.06988192484212093,-0.44940640776412216,-0.18080598749418955,2.139723078884238,-0.2517097607576037]   |(700,[675],[1.0])|(54,[39],[1.0])    |(28,[],[])           |(162,[126],[1.0])       |(1,[],[])             |(3,[1],[1.0])    |(5,[1],[1.0])       |(953,[675,739,908,946,949],[1.0,1.0,1.0,1.0,1.0])                |(967,[675,739,908,946,949,953,954,955,956,957,958,959,960,961,962,963,964,965,966],[1.0,1.0,1.0,1.0,1.0,-0.37532336086526935,-0.2552885485571143,-2.1421408491801732,-2.2602163672767457,-2.3211750268212,-0.8148982958336051,-0.7310929799408433,-0.8213949521882119,-0.682170320455064,-0.06988192484212093,-0.44940640776412216,-0.18080598749418955,2.139723078884238,-0.2517097607576037])                |1426.6808964781217|\n",
            "|500.0   |100000.0 |1                       |48     |50                |56       |31                 |31              |42              |32                     |25                |33                |27         |2          |21               |351      |27         |1.0         |21           |75              |0             |1        |[100000.0,1.0,48.0,50.0,56.0,31.0,31.0,42.0,32.0,25.0,33.0,27.0,2.0,21.0]|[-0.37396168928823176,-0.2552885485571143,-2.577325911784543,-1.265758565637142,-2.4854048732633163,-2.2137835589852686,-1.6837648457750085,-1.2008571310494902,-1.8552684462934068,-1.864859465645574,-1.5281456253730996,-1.1136457291002506,-0.4586933040814003,-1.2150498338342615]   |(700,[351],[1.0])|(54,[27],[1.0])    |(28,[21],[1.0])      |(162,[75],[1.0])        |(1,[0],[1.0])         |(3,[1],[1.0])    |(5,[1],[1.0])       |(953,[351,727,775,857,944,946,949],[1.0,1.0,1.0,1.0,1.0,1.0,1.0])|(967,[351,727,775,857,944,946,949,953,954,955,956,957,958,959,960,961,962,963,964,965,966],[1.0,1.0,1.0,1.0,1.0,1.0,1.0,-0.37396168928823176,-0.2552885485571143,-2.577325911784543,-1.265758565637142,-2.4854048732633163,-2.2137835589852686,-1.6837648457750085,-1.2008571310494902,-1.8552684462934068,-1.864859465645574,-1.5281456253730996,-1.1136457291002506,-0.4586933040814003,-1.2150498338342615])|1426.6808964781217|\n",
            "|500.0   |100000.0 |1                       |48     |50                |59       |35                 |34              |26              |34                     |30                |34                |29         |2          |30               |531      |27         |1.0         |21           |75              |0             |0        |[100000.0,1.0,48.0,50.0,59.0,35.0,34.0,26.0,34.0,30.0,34.0,29.0,2.0,30.0]|[-0.37396168928823176,-0.2552885485571143,-2.577325911784543,-1.265758565637142,-1.992715333936967,-1.8846340853025243,-1.4639174921209703,-2.4151361034055805,-1.717256902077131,-1.532456217348638,-1.4682156688392674,-1.0038998771465963,-0.4586933040814003,-0.7050462657348544]     |(700,[531],[1.0])|(54,[27],[1.0])    |(28,[21],[1.0])      |(162,[75],[1.0])        |(1,[0],[1.0])         |(3,[0],[1.0])    |(5,[1],[1.0])       |(953,[531,727,775,857,944,945,949],[1.0,1.0,1.0,1.0,1.0,1.0,1.0])|(967,[531,727,775,857,944,945,949,953,954,955,956,957,958,959,960,961,962,963,964,965,966],[1.0,1.0,1.0,1.0,1.0,1.0,1.0,-0.37396168928823176,-0.2552885485571143,-2.577325911784543,-1.265758565637142,-1.992715333936967,-1.8846340853025243,-1.4639174921209703,-2.4151361034055805,-1.717256902077131,-1.532456217348638,-1.4682156688392674,-1.0038998771465963,-0.4586933040814003,-0.7050462657348544])  |1426.6808964781217|\n",
            "|500.0   |100000.0 |1                       |49     |36                |56       |38                 |37              |57              |45                     |41                |46                |48         |2          |49               |83       |27         |1.0         |21           |75              |1             |0        |[100000.0,1.0,49.0,36.0,56.0,38.0,37.0,57.0,45.0,41.0,46.0,48.0,2.0,49.0]|[-0.37396168928823176,-0.2552885485571143,-2.4322642242497534,-2.8126929237431924,-2.4854048732633163,-1.637771980040466,-1.2440701384669322,-0.062470594465655366,-0.9581934088876152,-0.8011690710953795,-0.7490561904332825,0.03868571641311891,-0.4586933040814003,0.371627933586116] |(700,[83],[1.0]) |(54,[27],[1.0])    |(28,[21],[1.0])      |(162,[75],[1.0])        |(1,[],[])             |(3,[0],[1.0])    |(5,[1],[1.0])       |(953,[83,727,775,857,945,949],[1.0,1.0,1.0,1.0,1.0,1.0])         |(967,[83,727,775,857,945,949,953,954,955,956,957,958,959,960,961,962,963,964,965,966],[1.0,1.0,1.0,1.0,1.0,1.0,-0.37396168928823176,-0.2552885485571143,-2.4322642242497534,-2.8126929237431924,-2.4854048732633163,-1.637771980040466,-1.2440701384669322,-0.062470594465655366,-0.9581934088876152,-0.8011690710953795,-0.7490561904332825,0.03868571641311891,-0.4586933040814003,0.371627933586116])       |1426.6808964781217|\n",
            "|500.0   |100000.0 |1                       |49     |43                |64       |40                 |34              |38              |25                     |24                |26                |27         |2          |26               |90       |39         |1.0         |28           |126             |1             |0        |[100000.0,1.0,49.0,43.0,64.0,40.0,34.0,38.0,25.0,24.0,26.0,27.0,2.0,26.0]|[-0.37396168928823176,-0.2552885485571143,-2.4322642242497534,-2.0392257446901674,-1.1715661017263845,-1.4731972431990938,-1.4639174921209703,-1.5044268741385127,-2.3383088510503716,-1.931340115304961,-1.9476553211099241,-1.1136457291002506,-0.4586933040814003,-0.9317145182234797] |(700,[90],[1.0]) |(54,[39],[1.0])    |(28,[],[])           |(162,[126],[1.0])       |(1,[],[])             |(3,[0],[1.0])    |(5,[1],[1.0])       |(953,[90,739,908,945,949],[1.0,1.0,1.0,1.0,1.0])                 |(967,[90,739,908,945,949,953,954,955,956,957,958,959,960,961,962,963,964,965,966],[1.0,1.0,1.0,1.0,1.0,-0.37396168928823176,-0.2552885485571143,-2.4322642242497534,-2.0392257446901674,-1.1715661017263845,-1.4731972431990938,-1.4639174921209703,-1.5044268741385127,-2.3383088510503716,-1.931340115304961,-1.9476553211099241,-1.1136457291002506,-0.4586933040814003,-0.9317145182234797])               |1426.6808964781217|\n",
            "|500.0   |100000.0 |1                       |49     |47                |58       |43                 |40              |46              |39                     |30                |40                |39         |2          |38               |351      |27         |1.0         |21           |75              |1             |1        |[100000.0,1.0,49.0,47.0,58.0,43.0,40.0,46.0,39.0,30.0,40.0,39.0,2.0,38.0]|[-0.37396168928823176,-0.2552885485571143,-2.4322642242497534,-1.5972444995170099,-2.1569451803790836,-1.2263351379370355,-1.0242227848128942,-0.8972873879604676,-1.372228041536442,-1.532456217348638,-1.108635929636275,-0.45517061737832515,-0.4586933040814003,-0.2517097607576037]  |(700,[351],[1.0])|(54,[27],[1.0])    |(28,[21],[1.0])      |(162,[75],[1.0])        |(1,[],[])             |(3,[1],[1.0])    |(5,[1],[1.0])       |(953,[351,727,775,857,946,949],[1.0,1.0,1.0,1.0,1.0,1.0])        |(967,[351,727,775,857,946,949,953,954,955,956,957,958,959,960,961,962,963,964,965,966],[1.0,1.0,1.0,1.0,1.0,1.0,-0.37396168928823176,-0.2552885485571143,-2.4322642242497534,-1.5972444995170099,-2.1569451803790836,-1.2263351379370355,-1.0242227848128942,-0.8972873879604676,-1.372228041536442,-1.532456217348638,-1.108635929636275,-0.45517061737832515,-0.4586933040814003,-0.2517097607576037])       |1426.6808964781217|\n",
            "|500.0   |100000.0 |1                       |49     |50                |58       |44                 |36              |40              |44                     |44                |40                |33         |2          |29               |251      |27         |1.0         |28           |75              |1             |1        |[100000.0,1.0,49.0,50.0,58.0,44.0,36.0,40.0,44.0,44.0,40.0,33.0,2.0,29.0]|[-0.37396168928823176,-0.2552885485571143,-2.4322642242497534,-1.265758565637142,-2.1569451803790836,-1.1440477695163493,-1.317352589684945,-1.3526420025940016,-1.027199180995753,-0.6017271221172181,-1.108635929636275,-0.7844081732392878,-0.4586933040814003,-0.7617133288570107]    |(700,[251],[1.0])|(54,[27],[1.0])    |(28,[],[])           |(162,[75],[1.0])        |(1,[],[])             |(3,[1],[1.0])    |(5,[1],[1.0])       |(953,[251,727,857,946,949],[1.0,1.0,1.0,1.0,1.0])                |(967,[251,727,857,946,949,953,954,955,956,957,958,959,960,961,962,963,964,965,966],[1.0,1.0,1.0,1.0,1.0,-0.37396168928823176,-0.2552885485571143,-2.4322642242497534,-1.265758565637142,-2.1569451803790836,-1.1440477695163493,-1.317352589684945,-1.3526420025940016,-1.027199180995753,-0.6017271221172181,-1.108635929636275,-0.7844081732392878,-0.4586933040814003,-0.7617133288570107])                 |1426.6808964781217|\n",
            "|500.0   |100000.0 |1                       |49     |54                |57       |42                 |35              |40              |35                     |28                |40                |34         |2          |26               |451      |27         |1.0         |21           |75              |1             |1        |[100000.0,1.0,49.0,54.0,57.0,42.0,35.0,40.0,35.0,28.0,40.0,34.0,2.0,26.0]|[-0.37396168928823176,-0.2552885485571143,-2.4322642242497534,-0.8237773204639848,-2.3211750268212,-1.3086225063577217,-1.3906350409029575,-1.3526420025940016,-1.6482511299689933,-1.6654175166674123,-1.108635929636275,-0.7295352472624607,-0.4586933040814003,-0.9317145182234797]    |(700,[451],[1.0])|(54,[27],[1.0])    |(28,[21],[1.0])      |(162,[75],[1.0])        |(1,[],[])             |(3,[1],[1.0])    |(5,[1],[1.0])       |(953,[451,727,775,857,946,949],[1.0,1.0,1.0,1.0,1.0,1.0])        |(967,[451,727,775,857,946,949,953,954,955,956,957,958,959,960,961,962,963,964,965,966],[1.0,1.0,1.0,1.0,1.0,1.0,-0.37396168928823176,-0.2552885485571143,-2.4322642242497534,-0.8237773204639848,-2.3211750268212,-1.3086225063577217,-1.3906350409029575,-1.3526420025940016,-1.6482511299689933,-1.6654175166674123,-1.108635929636275,-0.7295352472624607,-0.4586933040814003,-0.9317145182234797])         |1426.6808964781217|\n",
            "+--------+---------+------------------------+-------+------------------+---------+-------------------+----------------+----------------+-----------------------+------------------+------------------+-----------+-----------+-----------------+---------+-----------+------------+-------------+----------------+--------------+---------+-------------------------------------------------------------------------+------------------------------------------------------------------------------------------------------------------------------------------------------------------------------------------------------------------------------------------------------------------------------------------+-----------------+-------------------+---------------------+------------------------+----------------------+-----------------+--------------------+-----------------------------------------------------------------+---------------------------------------------------------------------------------------------------------------------------------------------------------------------------------------------------------------------------------------------------------------------------------------------------------------------------------------------------------------------------------------------------------------+------------------+\n",
            "only showing top 20 rows\n",
            "\n"
          ]
        }
      ]
    },
    {
      "cell_type": "code",
      "source": [
        "pred_test_pd_df = test_dt.toPandas()\n",
        "\n",
        "pred_test_pd_df.head(2)\n",
        "pred_test_pd_df.prediction.min()"
      ],
      "metadata": {
        "colab": {
          "base_uri": "https://localhost:8080/"
        },
        "id": "0bilVcgYQotk",
        "outputId": "9e989eb9-3082-46c9-e3bb-8d157ae4024f"
      },
      "execution_count": 33,
      "outputs": [
        {
          "output_type": "execute_result",
          "data": {
            "text/plain": [
              "1426.6808964781217"
            ]
          },
          "metadata": {},
          "execution_count": 33
        }
      ]
    },
    {
      "cell_type": "code",
      "source": [
        "predictions_actuals = test_dt[['prediction','wage_eur']]\n",
        "predictions_actuals_rdd = predictions_actuals.rdd\n",
        "predictions_actuals_rdd = predictions_actuals_rdd.map(tuple)\n",
        "predictions_actuals_rdd.take(2)"
      ],
      "metadata": {
        "colab": {
          "base_uri": "https://localhost:8080/"
        },
        "id": "1uNHh2ilRCOH",
        "outputId": "065447ad-47ec-463b-9089-81fa64d351ef"
      },
      "execution_count": 29,
      "outputs": [
        {
          "output_type": "execute_result",
          "data": {
            "text/plain": [
              "[(1426.6808964781217, 500.0), (1426.6808964781217, 500.0)]"
            ]
          },
          "metadata": {},
          "execution_count": 29
        }
      ]
    },
    {
      "cell_type": "code",
      "source": [
        "metrics = RegressionMetrics(predictions_actuals_rdd)\n",
        "\n",
        "print(f'''Mean Squared Error: {metrics.meanSquaredError}\n",
        "          Root Mean Squared Error: {metrics.rootMeanSquaredError}\n",
        "          Mean Absolute Error:{metrics.meanAbsoluteError}\n",
        "          R**2: {metrics.r2}\n",
        "      ''')"
      ],
      "metadata": {
        "colab": {
          "base_uri": "https://localhost:8080/"
        },
        "id": "S9mqenOZRTt_",
        "outputId": "66c26e73-7260-4f59-a74a-e70d4562ac40"
      },
      "execution_count": 30,
      "outputs": [
        {
          "output_type": "stream",
          "name": "stderr",
          "text": [
            "/usr/local/lib/python3.10/dist-packages/pyspark/sql/context.py:157: FutureWarning: Deprecated in 3.0.0. Use SparkSession.builder.getOrCreate() instead.\n",
            "  warnings.warn(\n"
          ]
        },
        {
          "output_type": "stream",
          "name": "stdout",
          "text": [
            "Mean Squared Error: 87134811.75874084\n",
            "          Root Mean Squared Error: 9334.602924535186\n",
            "          Mean Absolute Error:4068.312133041912\n",
            "          R**2: 0.7946674775591065\n",
            "      \n"
          ]
        }
      ]
    },
    {
      "cell_type": "code",
      "source": [],
      "metadata": {
        "id": "WW8g5ecORpWD"
      },
      "execution_count": null,
      "outputs": []
    }
  ]
}